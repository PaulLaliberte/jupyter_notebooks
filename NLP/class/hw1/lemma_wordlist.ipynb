{
 "cells": [
  {
   "cell_type": "markdown",
   "metadata": {},
   "source": [
    "# Lemma Dataset\n",
    "***\n",
    "\n",
    "A dataset of lemmas that were constructed for a course in NLP."
   ]
  },
  {
   "cell_type": "code",
   "execution_count": 134,
   "metadata": {
    "collapsed": false
   },
   "outputs": [],
   "source": [
    "import random\n",
    "\n",
    "from nltk.corpus import words\n",
    "from nltk.corpus import wordnet\n",
    "from nltk.stem import WordNetLemmatizer\n",
    "from nltk import pos_tag"
   ]
  },
  {
   "cell_type": "code",
   "execution_count": 135,
   "metadata": {
    "collapsed": false
   },
   "outputs": [
    {
     "data": {
      "text/plain": [
       "236736"
      ]
     },
     "execution_count": 135,
     "metadata": {},
     "output_type": "execute_result"
    }
   ],
   "source": [
    "len(words.words())"
   ]
  },
  {
   "cell_type": "code",
   "execution_count": 136,
   "metadata": {
    "collapsed": true
   },
   "outputs": [],
   "source": [
    "def get_wordnet_tag(pos_tag):\n",
    "    if pos_tag.startswith('J'):\n",
    "        return wordnet.ADJ\n",
    "    elif pos_tag.startswith('V'):\n",
    "        return wordnet.VERB\n",
    "    elif pos_tag.startswith('N'):\n",
    "        return wordnet.NOUN\n",
    "    elif pos_tag.startswith('R'):\n",
    "        return wordnet.ADV\n",
    "    elif pos_tag.startswith('S'):\n",
    "        return wordnet.ADJ_SAT\n",
    "    else:\n",
    "        return None"
   ]
  },
  {
   "cell_type": "code",
   "execution_count": 137,
   "metadata": {
    "collapsed": false
   },
   "outputs": [],
   "source": [
    "lemmatizer = WordNetLemmatizer()\n",
    "\n",
    "word_list = list(words.words())\n",
    "word_list = list(set([word.lower() for word in word_list]))\n",
    "word_list = [(word[0], get_wordnet_tag(word[1])) for word in pos_tag(word_list)]\n",
    "word_list = [lemmatizer.lemmatize(word[0], word[1]) for word in word_list if word[1] is not None]"
   ]
  },
  {
   "cell_type": "code",
   "execution_count": 138,
   "metadata": {
    "collapsed": false
   },
   "outputs": [
    {
     "data": {
      "text/plain": [
       "['zootomist',\n",
       " 'inflict',\n",
       " 'spirocheticide',\n",
       " 'cope',\n",
       " 'scap',\n",
       " 'retail',\n",
       " 'adjournal',\n",
       " 'advisable',\n",
       " 'loimography',\n",
       " 'mano',\n",
       " 'boutade',\n",
       " 'ionornis',\n",
       " 'dawtet',\n",
       " 'fremd',\n",
       " 'aglipayan',\n",
       " 'undeflected',\n",
       " 'prosodiacal',\n",
       " 'oxytocic',\n",
       " 'lablab',\n",
       " 'shuff']"
      ]
     },
     "execution_count": 138,
     "metadata": {},
     "output_type": "execute_result"
    }
   ],
   "source": [
    "word_list[:20]"
   ]
  },
  {
   "cell_type": "code",
   "execution_count": 139,
   "metadata": {
    "collapsed": false
   },
   "outputs": [
    {
     "data": {
      "text/plain": [
       "231167"
      ]
     },
     "execution_count": 139,
     "metadata": {},
     "output_type": "execute_result"
    }
   ],
   "source": [
    "len(word_list)"
   ]
  },
  {
   "cell_type": "code",
   "execution_count": 140,
   "metadata": {
    "collapsed": true
   },
   "outputs": [],
   "source": [
    "word_list = list(set(word_list))"
   ]
  },
  {
   "cell_type": "code",
   "execution_count": 141,
   "metadata": {
    "collapsed": false
   },
   "outputs": [
    {
     "data": {
      "text/plain": [
       "227000"
      ]
     },
     "execution_count": 141,
     "metadata": {},
     "output_type": "execute_result"
    }
   ],
   "source": [
    "len(word_list)"
   ]
  },
  {
   "cell_type": "markdown",
   "metadata": {},
   "source": [
    ">The list contains 227000 lemmas."
   ]
  },
  {
   "cell_type": "markdown",
   "metadata": {},
   "source": [
    "Grab 30 random lemmas to test oneself on:"
   ]
  },
  {
   "cell_type": "code",
   "execution_count": 149,
   "metadata": {
    "collapsed": false
   },
   "outputs": [
    {
     "name": "stdout",
     "output_type": "stream",
     "text": [
      "scribbly\n",
      "metapneumonic\n",
      "misdelivery\n",
      "blair\n",
      "metrolymphangitis\n",
      "ungrappler\n",
      "traitorism\n",
      "homarus\n",
      "requisition\n",
      "antisplasher\n",
      "glandularly\n",
      "coccous\n",
      "subzonal\n",
      "stalwart\n",
      "ushership\n",
      "ureter\n",
      "dicaryotic\n",
      "civilizee\n",
      "sublimational\n",
      "intestacy\n",
      "amsath\n",
      "operatically\n",
      "aceconitic\n",
      "plinian\n",
      "pyre\n",
      "pericystitis\n",
      "pneumolith\n",
      "chitin\n",
      "unglozed\n",
      "protohistorian\n"
     ]
    }
   ],
   "source": [
    "sample_lemmas = random.sample(word_list, 30)\n",
    "for i in sample_lemmas:\n",
    "    print(i)"
   ]
  },
  {
   "cell_type": "code",
   "execution_count": null,
   "metadata": {
    "collapsed": false
   },
   "outputs": [],
   "source": []
  }
 ],
 "metadata": {
  "kernelspec": {
   "display_name": "Python 3",
   "language": "python",
   "name": "python3"
  },
  "language_info": {
   "codemirror_mode": {
    "name": "ipython",
    "version": 3
   },
   "file_extension": ".py",
   "mimetype": "text/x-python",
   "name": "python",
   "nbconvert_exporter": "python",
   "pygments_lexer": "ipython3",
   "version": "3.5.2"
  }
 },
 "nbformat": 4,
 "nbformat_minor": 2
}
