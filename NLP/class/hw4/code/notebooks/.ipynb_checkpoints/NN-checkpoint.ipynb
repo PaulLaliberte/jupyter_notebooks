{
 "cells": [
  {
   "cell_type": "code",
   "execution_count": 66,
   "metadata": {},
   "outputs": [],
   "source": [
    "import collections\n",
    "import nltk\n",
    "import copy\n",
    "\n",
    "import pandas as pd\n",
    "import numpy as np\n",
    "\n",
    "from keras.preprocessing.text import one_hot\n",
    "from keras.preprocessing import sequence\n",
    "\n",
    "from keras.models import Sequential\n",
    "\n",
    "from keras.layers.recurrent import GRU, LSTM\n",
    "from keras.layers.core import Activation, Dense, Dropout, RepeatVector, SpatialDropout1D\n",
    "from keras.layers.embeddings import Embedding\n",
    "from keras.layers.wrappers import TimeDistributed\n",
    "\n",
    "import keras.layers as layers\n",
    "\n",
    "from sklearn.model_selection import train_test_split"
   ]
  },
  {
   "cell_type": "code",
   "execution_count": 67,
   "metadata": {},
   "outputs": [
    {
     "data": {
      "text/plain": [
       "'/device:GPU:0'"
      ]
     },
     "execution_count": 67,
     "metadata": {},
     "output_type": "execute_result"
    }
   ],
   "source": [
    "import tensorflow as tf\n",
    "tf.test.gpu_device_name()"
   ]
  },
  {
   "cell_type": "code",
   "execution_count": 68,
   "metadata": {},
   "outputs": [],
   "source": [
    "sentences = []\n",
    "s = []\n",
    "\n",
    "with open('../../data/gene-trainF17.txt') as f:\n",
    "    for line in f:\n",
    "        if line != '\\n':\n",
    "            s.append(line)\n",
    "        else:\n",
    "            sentences.append(s)\n",
    "            s = []"
   ]
  },
  {
   "cell_type": "code",
   "execution_count": 69,
   "metadata": {},
   "outputs": [
    {
     "data": {
      "text/plain": [
       "[['1\\tComparison\\tO\\n',\n",
       "  '2\\twith\\tO\\n',\n",
       "  '3\\talkaline\\tB\\n',\n",
       "  '4\\tphosphatases\\tI\\n',\n",
       "  '5\\tand\\tO\\n',\n",
       "  '6\\t5\\tB\\n',\n",
       "  '7\\t-\\tI\\n',\n",
       "  '8\\tnucleotidase\\tI\\n',\n",
       "  '9\\t.\\tO\\n'],\n",
       " ['1\\tPharmacologic\\tO\\n',\n",
       "  '2\\taspects\\tO\\n',\n",
       "  '3\\tof\\tO\\n',\n",
       "  '4\\tneonatal\\tO\\n',\n",
       "  '5\\thyperbilirubinemia\\tO\\n',\n",
       "  '6\\t.\\tO\\n']]"
      ]
     },
     "execution_count": 69,
     "metadata": {},
     "output_type": "execute_result"
    }
   ],
   "source": [
    "sentences[:2]"
   ]
  },
  {
   "cell_type": "code",
   "execution_count": 70,
   "metadata": {},
   "outputs": [
    {
     "data": {
      "text/plain": [
       "13795"
      ]
     },
     "execution_count": 70,
     "metadata": {},
     "output_type": "execute_result"
    }
   ],
   "source": [
    "len(sentences)"
   ]
  },
  {
   "cell_type": "code",
   "execution_count": 71,
   "metadata": {},
   "outputs": [],
   "source": [
    "sentences_processed = []\n",
    "tags_processed = []\n",
    "\n",
    "for arr in sentences:\n",
    "    tmp_s = []\n",
    "    tmp_t = []\n",
    "    for line in arr:\n",
    "        line = line.replace('\\n', '').split('\\t')\n",
    "        tmp_s.append(line[1])\n",
    "        tmp_t.append(line[2])\n",
    "        \n",
    "    sentences_processed.append(' '.join(tmp_s))\n",
    "    tags_processed.append(' '.join(tmp_t))"
   ]
  },
  {
   "cell_type": "code",
   "execution_count": 72,
   "metadata": {},
   "outputs": [
    {
     "data": {
      "text/plain": [
       "('Comparison with alkaline phosphatases and 5 - nucleotidase .',\n",
       " 'O O B I O B I I O')"
      ]
     },
     "execution_count": 72,
     "metadata": {},
     "output_type": "execute_result"
    }
   ],
   "source": [
    "sentences_processed[0], tags_processed[0]"
   ]
  },
  {
   "cell_type": "code",
   "execution_count": 73,
   "metadata": {},
   "outputs": [],
   "source": [
    "VOCAB_LEN = 100"
   ]
  },
  {
   "cell_type": "code",
   "execution_count": 74,
   "metadata": {},
   "outputs": [],
   "source": [
    "one_hot_sentences = []\n",
    "\n",
    "for sent in sentences_processed:\n",
    "    one_hot_sentences.append(one_hot(sent,\n",
    "                                     VOCAB_LEN,\n",
    "                                     filters='',\n",
    "                                     lower=True,\n",
    "                                     split=' '))\n",
    "    "
   ]
  },
  {
   "cell_type": "code",
   "execution_count": 75,
   "metadata": {},
   "outputs": [],
   "source": [
    "tags_processed = [t.split(' ') for t in tags_processed]"
   ]
  },
  {
   "cell_type": "code",
   "execution_count": 76,
   "metadata": {},
   "outputs": [
    {
     "data": {
      "text/plain": [
       "([80, 13, 82, 88, 45, 68, 66, 11, 29],\n",
       " ['O', 'O', 'B', 'I', 'O', 'B', 'I', 'I', 'O'])"
      ]
     },
     "execution_count": 76,
     "metadata": {},
     "output_type": "execute_result"
    }
   ],
   "source": [
    "one_hot_sentences[0], tags_processed[0]"
   ]
  },
  {
   "cell_type": "code",
   "execution_count": 77,
   "metadata": {},
   "outputs": [],
   "source": [
    "one_hot_tags = []\n",
    "\n",
    "for arr in tags_processed:\n",
    "    tmp = []\n",
    "    for t in arr:\n",
    "        if t == 'O':\n",
    "            tmp.append(0)\n",
    "        elif t == 'B':\n",
    "            tmp.append(1)\n",
    "        #elif t == 'I':\n",
    "            #tmp.append(3)\n",
    "    one_hot_tags.append(tmp)"
   ]
  },
  {
   "cell_type": "code",
   "execution_count": 78,
   "metadata": {},
   "outputs": [
    {
     "data": {
      "text/plain": [
       "(13795, 13795)"
      ]
     },
     "execution_count": 78,
     "metadata": {},
     "output_type": "execute_result"
    }
   ],
   "source": [
    "len(one_hot_sentences), len(one_hot_tags)"
   ]
  },
  {
   "cell_type": "code",
   "execution_count": 79,
   "metadata": {},
   "outputs": [
    {
     "data": {
      "text/plain": [
       "(9, 6)"
      ]
     },
     "execution_count": 79,
     "metadata": {},
     "output_type": "execute_result"
    }
   ],
   "source": [
    "len(one_hot_sentences[0]), len(one_hot_tags[0])"
   ]
  },
  {
   "cell_type": "code",
   "execution_count": 80,
   "metadata": {},
   "outputs": [],
   "source": [
    "X_train, X_test, y_train, y_test = one_hot_sentences[:11036], one_hot_sentences[11036:], one_hot_tags[:11036], one_hot_tags[11036:]"
   ]
  },
  {
   "cell_type": "code",
   "execution_count": 81,
   "metadata": {},
   "outputs": [
    {
     "data": {
      "text/plain": [
       "(9, 6)"
      ]
     },
     "execution_count": 81,
     "metadata": {},
     "output_type": "execute_result"
    }
   ],
   "source": [
    "len(X_train[0]), len(y_train[0])"
   ]
  },
  {
   "cell_type": "code",
   "execution_count": 82,
   "metadata": {},
   "outputs": [],
   "source": [
    "X_train = sequence.pad_sequences(X_train, maxlen=VOCAB_LEN)\n",
    "y_train = sequence.pad_sequences(y_train, maxlen=VOCAB_LEN)\n",
    "\n",
    "X_test = sequence.pad_sequences(X_test, maxlen=VOCAB_LEN)\n",
    "y_test = sequence.pad_sequences(y_test, maxlen=VOCAB_LEN)"
   ]
  },
  {
   "cell_type": "code",
   "execution_count": 83,
   "metadata": {},
   "outputs": [
    {
     "data": {
      "text/plain": [
       "((11036, 100), (11036, 100))"
      ]
     },
     "execution_count": 83,
     "metadata": {},
     "output_type": "execute_result"
    }
   ],
   "source": [
    "X_train.shape, y_train.shape"
   ]
  },
  {
   "cell_type": "code",
   "execution_count": 61,
   "metadata": {},
   "outputs": [
    {
     "data": {
      "text/plain": [
       "(array([ 0,  0,  0,  0,  0,  0,  0,  0,  0,  0,  0,  0,  0,  0,  0,  0,  0,\n",
       "         0,  0,  0,  0,  0,  0,  0,  0,  0,  0,  0,  0,  0,  0,  0,  0,  0,\n",
       "         0,  0,  0,  0,  0,  0,  0,  0,  0,  0,  0,  0,  0,  0,  0,  0,  0,\n",
       "         0,  0,  0,  0,  0,  0,  0,  0,  0,  0,  0,  0,  0,  0,  0,  0,  0,\n",
       "         0,  0,  0,  0,  0,  0,  0,  0,  0,  0,  0,  0,  0,  0,  0,  0,  0,\n",
       "         0,  0,  0,  0,  0,  0, 80, 13, 82, 88, 45, 68, 66, 11, 29], dtype=int32),\n",
       " array([0, 0, 0, 0, 0, 0, 0, 0, 0, 0, 0, 0, 0, 0, 0, 0, 0, 0, 0, 0, 0, 0, 0,\n",
       "        0, 0, 0, 0, 0, 0, 0, 0, 0, 0, 0, 0, 0, 0, 0, 0, 0, 0, 0, 0, 0, 0, 0,\n",
       "        0, 0, 0, 0, 0, 0, 0, 0, 0, 0, 0, 0, 0, 0, 0, 0, 0, 0, 0, 0, 0, 0, 0,\n",
       "        0, 0, 0, 0, 0, 0, 0, 0, 0, 0, 0, 0, 0, 0, 0, 0, 0, 0, 0, 0, 0, 0, 1,\n",
       "        1, 2, 3, 1, 2, 3, 3, 1], dtype=int32))"
      ]
     },
     "execution_count": 61,
     "metadata": {},
     "output_type": "execute_result"
    }
   ],
   "source": [
    "X_train[0], y_train[0]"
   ]
  },
  {
   "cell_type": "code",
   "execution_count": 84,
   "metadata": {},
   "outputs": [],
   "source": [
    "model = Sequential()\n",
    "model.add(Embedding(20000, 100))\n",
    "model.add(layers.SpatialDropout1D(rate=0.2))\n",
    "model.add(LSTM(100, recurrent_dropout=0.2, dropout=0.2))\n",
    "model.add(Dense(100, activation='sigmoid'))"
   ]
  },
  {
   "cell_type": "code",
   "execution_count": 85,
   "metadata": {},
   "outputs": [],
   "source": [
    "model.compile(loss='binary_crossentropy',\n",
    "              optimizer='adam',\n",
    "              metrics=['accuracy'])"
   ]
  },
  {
   "cell_type": "code",
   "execution_count": 86,
   "metadata": {},
   "outputs": [
    {
     "name": "stdout",
     "output_type": "stream",
     "text": [
      "Epoch 1/2\n",
      "11036/11036 [==============================] - 67s 6ms/step - loss: 0.0869 - acc: 0.9810\n",
      "Epoch 2/2\n",
      "11036/11036 [==============================] - 64s 6ms/step - loss: 0.0500 - acc: 0.9890\n"
     ]
    },
    {
     "data": {
      "text/plain": [
       "<keras.callbacks.History at 0x7efd5e6a9f28>"
      ]
     },
     "execution_count": 86,
     "metadata": {},
     "output_type": "execute_result"
    }
   ],
   "source": [
    "model.fit(X_train, y_train, batch_size=32, epochs=2)"
   ]
  },
  {
   "cell_type": "code",
   "execution_count": 114,
   "metadata": {},
   "outputs": [],
   "source": [
    "pred = model.predict(X_train)"
   ]
  },
  {
   "cell_type": "code",
   "execution_count": 115,
   "metadata": {},
   "outputs": [
    {
     "data": {
      "text/plain": [
       "array([ 0.00061274,  0.0004118 ,  0.00023229,  0.00054413,  0.00042412,\n",
       "        0.00034046,  0.00039539,  0.00029955,  0.00022793,  0.00045904,\n",
       "        0.00026651,  0.00023481,  0.00043725,  0.00027319,  0.00056219,\n",
       "        0.00031066,  0.0002515 ,  0.00052577,  0.00037056,  0.00035301,\n",
       "        0.00021549,  0.00027685,  0.00038887,  0.00025538,  0.00047931,\n",
       "        0.00055766,  0.00027968,  0.00095912,  0.00057123,  0.00096723,\n",
       "        0.00035761,  0.00035325,  0.00093486,  0.00067629,  0.00092027,\n",
       "        0.00080224,  0.00064375,  0.00056723,  0.00095558,  0.00075516,\n",
       "        0.00086278,  0.00072632,  0.00071401,  0.00072003,  0.00130736,\n",
       "        0.00121851,  0.00088507,  0.00157245,  0.00077896,  0.0017687 ,\n",
       "        0.00242277,  0.00145118,  0.0023219 ,  0.00141712,  0.00320582,\n",
       "        0.00270173,  0.00289237,  0.0016919 ,  0.0036343 ,  0.0034896 ,\n",
       "        0.00690444,  0.00357192,  0.01140114,  0.00867703,  0.00756624,\n",
       "        0.00641707,  0.00680938,  0.01143492,  0.00900083,  0.01727994,\n",
       "        0.01349414,  0.01503913,  0.01745009,  0.01649533,  0.01882779,\n",
       "        0.01990086,  0.01931727,  0.0245248 ,  0.02761859,  0.01998398,\n",
       "        0.02700593,  0.0253315 ,  0.02431075,  0.0411178 ,  0.03084731,\n",
       "        0.04104243,  0.03945192,  0.04068718,  0.03493993,  0.03594704,\n",
       "        0.03232922,  0.05033333,  0.03825474,  0.02677005,  0.03452498,\n",
       "        0.03636395,  0.04534204,  0.03011348,  0.11206305,  0.00086545], dtype=float32)"
      ]
     },
     "execution_count": 115,
     "metadata": {},
     "output_type": "execute_result"
    }
   ],
   "source": [
    "pred[0]"
   ]
  },
  {
   "cell_type": "code",
   "execution_count": 116,
   "metadata": {},
   "outputs": [],
   "source": [
    "pred_rounded = np.round(pred)"
   ]
  },
  {
   "cell_type": "code",
   "execution_count": 138,
   "metadata": {},
   "outputs": [
    {
     "data": {
      "text/plain": [
       "array([ 0.,  0.,  0.,  0.,  0.,  0.,  0.,  0.,  0.,  0.,  0.,  0.,  0.,\n",
       "        0.,  0.,  0.,  0.,  0.,  0.,  0.,  0.,  0.,  0.,  0.,  0.,  0.,\n",
       "        0.,  0.,  0.,  0.,  0.,  0.,  0.,  0.,  0.,  0.,  0.,  0.,  0.,\n",
       "        0.,  0.,  0.,  0.,  0.,  0.,  0.,  0.,  0.,  0.,  0.,  0.,  0.,\n",
       "        0.,  0.,  0.,  0.,  0.,  0.,  0.,  0.,  0.,  0.,  0.,  0.,  0.,\n",
       "        0.,  0.,  0.,  0.,  0.,  0.,  0.,  0.,  0.,  0.,  0.,  0.,  0.,\n",
       "        0.,  0.,  0.,  0.,  0.,  0.,  0.,  0.,  0.,  0.,  0.,  0.,  0.,\n",
       "        0.,  0.,  0.,  0.,  0.,  0.,  0.,  0.,  0.], dtype=float32)"
      ]
     },
     "execution_count": 138,
     "metadata": {},
     "output_type": "execute_result"
    }
   ],
   "source": [
    "pred_rounded[11]"
   ]
  },
  {
   "cell_type": "code",
   "execution_count": 137,
   "metadata": {},
   "outputs": [
    {
     "data": {
      "text/plain": [
       "array([0, 0, 0, 0, 0, 0, 0, 0, 0, 0, 0, 0, 0, 0, 0, 0, 0, 0, 0, 0, 0, 0, 0,\n",
       "       0, 0, 0, 0, 0, 0, 0, 0, 0, 0, 0, 0, 0, 0, 0, 0, 0, 0, 0, 0, 0, 0, 0,\n",
       "       0, 0, 0, 0, 0, 0, 0, 0, 0, 0, 0, 0, 0, 0, 0, 0, 0, 0, 0, 0, 0, 0, 0,\n",
       "       0, 0, 0, 0, 0, 0, 0, 0, 0, 0, 0, 0, 0, 0, 0, 0, 0, 0, 0, 0, 0, 1, 0,\n",
       "       0, 0, 0, 0, 0, 0, 0, 0], dtype=int32)"
      ]
     },
     "execution_count": 137,
     "metadata": {},
     "output_type": "execute_result"
    }
   ],
   "source": [
    "y_train[11]"
   ]
  },
  {
   "cell_type": "code",
   "execution_count": null,
   "metadata": {},
   "outputs": [],
   "source": []
  },
  {
   "cell_type": "code",
   "execution_count": 258,
   "metadata": {},
   "outputs": [],
   "source": [
    "def write_gold_standard(s):\n",
    "    with open('gold_lstm.txt', 'w') as f:\n",
    "        for arr in s:\n",
    "            for line in arr:\n",
    "                f.write(line)     "
   ]
  },
  {
   "cell_type": "code",
   "execution_count": null,
   "metadata": {},
   "outputs": [],
   "source": [
    "def write_submission(s):"
   ]
  },
  {
   "cell_type": "code",
   "execution_count": 259,
   "metadata": {},
   "outputs": [],
   "source": [
    "write_gold_standard(sentences[11036:])"
   ]
  },
  {
   "cell_type": "code",
   "execution_count": null,
   "metadata": {},
   "outputs": [],
   "source": []
  },
  {
   "cell_type": "code",
   "execution_count": null,
   "metadata": {},
   "outputs": [],
   "source": []
  },
  {
   "cell_type": "code",
   "execution_count": null,
   "metadata": {},
   "outputs": [],
   "source": []
  },
  {
   "cell_type": "code",
   "execution_count": null,
   "metadata": {},
   "outputs": [],
   "source": []
  },
  {
   "cell_type": "code",
   "execution_count": null,
   "metadata": {},
   "outputs": [],
   "source": []
  },
  {
   "cell_type": "code",
   "execution_count": null,
   "metadata": {},
   "outputs": [],
   "source": []
  },
  {
   "cell_type": "code",
   "execution_count": null,
   "metadata": {},
   "outputs": [],
   "source": []
  }
 ],
 "metadata": {
  "kernelspec": {
   "display_name": "Python 3",
   "language": "python",
   "name": "python3"
  },
  "language_info": {
   "codemirror_mode": {
    "name": "ipython",
    "version": 3
   },
   "file_extension": ".py",
   "mimetype": "text/x-python",
   "name": "python",
   "nbconvert_exporter": "python",
   "pygments_lexer": "ipython3",
   "version": "3.4.3"
  }
 },
 "nbformat": 4,
 "nbformat_minor": 2
}
