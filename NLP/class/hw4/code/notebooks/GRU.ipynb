{
 "cells": [
  {
   "cell_type": "code",
   "execution_count": 478,
   "metadata": {},
   "outputs": [],
   "source": [
    "import collections\n",
    "import nltk\n",
    "import copy\n",
    "\n",
    "import pandas as pd\n",
    "import numpy as np\n",
    "\n",
    "from keras.preprocessing.text import one_hot\n",
    "from keras.preprocessing import sequence\n",
    "\n",
    "from keras.models import Sequential\n",
    "\n",
    "from keras.layers.recurrent import GRU, LSTM\n",
    "from keras.layers.core import Activation, Dense, Dropout, RepeatVector, SpatialDropout1D\n",
    "from keras.layers.embeddings import Embedding\n",
    "\n",
    "import keras.layers as layers\n",
    "from sklearn.model_selection import train_test_split"
   ]
  },
  {
   "cell_type": "code",
   "execution_count": 479,
   "metadata": {},
   "outputs": [],
   "source": [
    "sentences = []\n",
    "s = []\n",
    "\n",
    "with open('../../data/gene-trainF17.txt') as f:\n",
    "    for line in f:\n",
    "        if line != '\\n':\n",
    "            s.append(line)\n",
    "        else:\n",
    "            sentences.append(s)\n",
    "            s = []"
   ]
  },
  {
   "cell_type": "code",
   "execution_count": 480,
   "metadata": {},
   "outputs": [
    {
     "data": {
      "text/plain": [
       "[['1\\tComparison\\tO\\n',\n",
       "  '2\\twith\\tO\\n',\n",
       "  '3\\talkaline\\tB\\n',\n",
       "  '4\\tphosphatases\\tI\\n',\n",
       "  '5\\tand\\tO\\n',\n",
       "  '6\\t5\\tB\\n',\n",
       "  '7\\t-\\tI\\n',\n",
       "  '8\\tnucleotidase\\tI\\n',\n",
       "  '9\\t.\\tO\\n'],\n",
       " ['1\\tPharmacologic\\tO\\n',\n",
       "  '2\\taspects\\tO\\n',\n",
       "  '3\\tof\\tO\\n',\n",
       "  '4\\tneonatal\\tO\\n',\n",
       "  '5\\thyperbilirubinemia\\tO\\n',\n",
       "  '6\\t.\\tO\\n']]"
      ]
     },
     "execution_count": 480,
     "metadata": {},
     "output_type": "execute_result"
    }
   ],
   "source": [
    "sentences[:2]"
   ]
  },
  {
   "cell_type": "code",
   "execution_count": 481,
   "metadata": {},
   "outputs": [
    {
     "data": {
      "text/plain": [
       "13795"
      ]
     },
     "execution_count": 481,
     "metadata": {},
     "output_type": "execute_result"
    }
   ],
   "source": [
    "len(sentences)"
   ]
  },
  {
   "cell_type": "code",
   "execution_count": 482,
   "metadata": {},
   "outputs": [],
   "source": [
    "sentences_processed = []\n",
    "tags_processed = []\n",
    "\n",
    "for arr in sentences:\n",
    "    tmp_s = []\n",
    "    tmp_t = []\n",
    "    for line in arr:\n",
    "        line = line.replace('\\n', '').split('\\t')\n",
    "        tmp_s.append(line[1])\n",
    "        tmp_t.append(line[2])\n",
    "        \n",
    "    sentences_processed.append(' '.join(tmp_s))\n",
    "    tags_processed.append(' '.join(tmp_t))"
   ]
  },
  {
   "cell_type": "code",
   "execution_count": 483,
   "metadata": {},
   "outputs": [
    {
     "data": {
      "text/plain": [
       "('Comparison with alkaline phosphatases and 5 - nucleotidase .',\n",
       " 'O O B I O B I I O')"
      ]
     },
     "execution_count": 483,
     "metadata": {},
     "output_type": "execute_result"
    }
   ],
   "source": [
    "sentences_processed[0], tags_processed[0]"
   ]
  },
  {
   "cell_type": "code",
   "execution_count": 484,
   "metadata": {},
   "outputs": [],
   "source": [
    "VOCAB_LEN = 100"
   ]
  },
  {
   "cell_type": "code",
   "execution_count": 485,
   "metadata": {},
   "outputs": [],
   "source": [
    "one_hot_sentences = []\n",
    "\n",
    "for sent in sentences_processed:\n",
    "    one_hot_sentences.append(one_hot(sent,\n",
    "                                     VOCAB_LEN,\n",
    "                                     filters='',\n",
    "                                     lower=True,\n",
    "                                     split=' '))\n",
    "    "
   ]
  },
  {
   "cell_type": "code",
   "execution_count": 486,
   "metadata": {},
   "outputs": [],
   "source": [
    "tags_processed = [t.split(' ') for t in tags_processed]"
   ]
  },
  {
   "cell_type": "code",
   "execution_count": 487,
   "metadata": {},
   "outputs": [
    {
     "data": {
      "text/plain": [
       "([78, 69, 87, 99, 79, 42, 94, 88, 59],\n",
       " ['O', 'O', 'B', 'I', 'O', 'B', 'I', 'I', 'O'])"
      ]
     },
     "execution_count": 487,
     "metadata": {},
     "output_type": "execute_result"
    }
   ],
   "source": [
    "one_hot_sentences[0], tags_processed[0]"
   ]
  },
  {
   "cell_type": "code",
   "execution_count": 488,
   "metadata": {},
   "outputs": [],
   "source": [
    "one_hot_tags = []\n",
    "\n",
    "for arr in tags_processed:\n",
    "    tmp = []\n",
    "    for t in arr:\n",
    "        if t == 'O':\n",
    "            tmp.append(1)\n",
    "        elif t == 'B' or t =='I':\n",
    "            tmp.append(2)\n",
    "        #elif t == 'I':\n",
    "            #tmp.append(3)\n",
    "    one_hot_tags.append(tmp)"
   ]
  },
  {
   "cell_type": "code",
   "execution_count": 489,
   "metadata": {},
   "outputs": [
    {
     "data": {
      "text/plain": [
       "(13795, 13795)"
      ]
     },
     "execution_count": 489,
     "metadata": {},
     "output_type": "execute_result"
    }
   ],
   "source": [
    "len(one_hot_sentences), len(one_hot_tags)"
   ]
  },
  {
   "cell_type": "code",
   "execution_count": 490,
   "metadata": {},
   "outputs": [
    {
     "data": {
      "text/plain": [
       "(9, 9)"
      ]
     },
     "execution_count": 490,
     "metadata": {},
     "output_type": "execute_result"
    }
   ],
   "source": [
    "len(one_hot_sentences[0]), len(one_hot_tags[0])"
   ]
  },
  {
   "cell_type": "code",
   "execution_count": 491,
   "metadata": {},
   "outputs": [],
   "source": [
    "X_train, X_test, y_train, y_test = one_hot_sentences[:11036], one_hot_sentences[11036:], one_hot_tags[:11036], one_hot_tags[11036:]"
   ]
  },
  {
   "cell_type": "code",
   "execution_count": 492,
   "metadata": {},
   "outputs": [
    {
     "data": {
      "text/plain": [
       "(9, 9)"
      ]
     },
     "execution_count": 492,
     "metadata": {},
     "output_type": "execute_result"
    }
   ],
   "source": [
    "len(X_train[0]), len(y_train[0])"
   ]
  },
  {
   "cell_type": "code",
   "execution_count": 493,
   "metadata": {},
   "outputs": [],
   "source": [
    "X_train = sequence.pad_sequences(X_train, maxlen=VOCAB_LEN)\n",
    "y_train = sequence.pad_sequences(y_train, maxlen=VOCAB_LEN)\n",
    "\n",
    "X_test = sequence.pad_sequences(X_test, maxlen=VOCAB_LEN)\n",
    "y_test = sequence.pad_sequences(y_test, maxlen=VOCAB_LEN)"
   ]
  },
  {
   "cell_type": "code",
   "execution_count": 494,
   "metadata": {},
   "outputs": [
    {
     "data": {
      "text/plain": [
       "((11036, 100), (11036, 100))"
      ]
     },
     "execution_count": 494,
     "metadata": {},
     "output_type": "execute_result"
    }
   ],
   "source": [
    "X_train.shape, y_train.shape"
   ]
  },
  {
   "cell_type": "code",
   "execution_count": 495,
   "metadata": {},
   "outputs": [
    {
     "data": {
      "text/plain": [
       "(array([ 0,  0,  0,  0,  0,  0,  0,  0,  0,  0,  0,  0,  0,  0,  0,  0,  0,\n",
       "         0,  0,  0,  0,  0,  0,  0,  0,  0,  0,  0,  0,  0,  0,  0,  0,  0,\n",
       "         0,  0,  0,  0,  0,  0,  0,  0,  0,  0,  0,  0,  0,  0,  0,  0,  0,\n",
       "         0,  0,  0,  0,  0,  0,  0,  0,  0,  0,  0,  0,  0,  0,  0,  0,  0,\n",
       "         0,  0,  0,  0,  0,  0,  0,  0,  0,  0,  0,  0,  0,  0,  0,  0,  0,\n",
       "         0,  0,  0,  0,  0,  0, 78, 69, 87, 99, 79, 42, 94, 88, 59], dtype=int32),\n",
       " array([0, 0, 0, 0, 0, 0, 0, 0, 0, 0, 0, 0, 0, 0, 0, 0, 0, 0, 0, 0, 0, 0, 0,\n",
       "        0, 0, 0, 0, 0, 0, 0, 0, 0, 0, 0, 0, 0, 0, 0, 0, 0, 0, 0, 0, 0, 0, 0,\n",
       "        0, 0, 0, 0, 0, 0, 0, 0, 0, 0, 0, 0, 0, 0, 0, 0, 0, 0, 0, 0, 0, 0, 0,\n",
       "        0, 0, 0, 0, 0, 0, 0, 0, 0, 0, 0, 0, 0, 0, 0, 0, 0, 0, 0, 0, 0, 0, 1,\n",
       "        1, 2, 2, 1, 2, 2, 2, 1], dtype=int32))"
      ]
     },
     "execution_count": 495,
     "metadata": {},
     "output_type": "execute_result"
    }
   ],
   "source": [
    "X_train[0], y_train[0]"
   ]
  },
  {
   "cell_type": "code",
   "execution_count": 499,
   "metadata": {},
   "outputs": [],
   "source": [
    "model = Sequential()\n",
    "model.add(Embedding(20000, 100))\n",
    "layers.SpatialDropout1D(rate=0.2)\n",
    "model.add(LSTM(100, recurrent_dropout=0.2, dropout=0.2)) \n",
    "model.add(Dense(100, activation='sigmoid'))"
   ]
  },
  {
   "cell_type": "code",
   "execution_count": 500,
   "metadata": {},
   "outputs": [],
   "source": [
    "model.compile(loss='categorical_crossentropy',\n",
    "              optimizer='adam',\n",
    "              metrics=['accuracy'])"
   ]
  },
  {
   "cell_type": "code",
   "execution_count": 501,
   "metadata": {},
   "outputs": [
    {
     "name": "stdout",
     "output_type": "stream",
     "text": [
      "Epoch 1/1\n",
      "11036/11036 [==============================] - 144s - loss: 118.9800 - acc: 0.0188   \n"
     ]
    },
    {
     "data": {
      "text/plain": [
       "<keras.callbacks.History at 0x159d0def0>"
      ]
     },
     "execution_count": 501,
     "metadata": {},
     "output_type": "execute_result"
    }
   ],
   "source": [
    "model.fit(X_train, y_train, batch_size=32, epochs=1)"
   ]
  },
  {
   "cell_type": "code",
   "execution_count": 502,
   "metadata": {},
   "outputs": [],
   "source": [
    "pred = model.predict(X_test)"
   ]
  },
  {
   "cell_type": "code",
   "execution_count": 503,
   "metadata": {},
   "outputs": [
    {
     "data": {
      "text/plain": [
       "array([ 0.00399625,  0.00451629,  0.00470455,  0.00431235,  0.00452046,\n",
       "        0.00478798,  0.00479583,  0.00579276,  0.00764863,  0.00862107,\n",
       "        0.00853349,  0.00974358,  0.01058936,  0.01062682,  0.01134948,\n",
       "        0.01254676,  0.01336103,  0.01342479,  0.01382928,  0.01415101,\n",
       "        0.01460239,  0.01547332,  0.01564126,  0.0155693 ,  0.01631906,\n",
       "        0.01625492,  0.01724258,  0.01747582,  0.01776485,  0.01812462,\n",
       "        0.0194335 ,  0.0181213 ,  0.02008784,  0.02200219,  0.02020856,\n",
       "        0.02260959,  0.02501399,  0.0258617 ,  0.02491872,  0.03179868,\n",
       "        0.0297458 ,  0.03418303,  0.03678126,  0.03691932,  0.04687715,\n",
       "        0.04643258,  0.04995934,  0.05935208,  0.06266194,  0.07038938,\n",
       "        0.08200552,  0.08241323,  0.08180037,  0.09249543,  0.10478768,\n",
       "        0.12683056,  0.13947581,  0.15672916,  0.17497657,  0.18590653,\n",
       "        0.19969314,  0.22793089,  0.24542642,  0.25714716,  0.29192111,\n",
       "        0.31625396,  0.33217794,  0.36404753,  0.38144052,  0.42206702,\n",
       "        0.43393064,  0.45014572,  0.484182  ,  0.54871553,  0.55274439,\n",
       "        0.57939506,  0.62478173,  0.65201646,  0.68227255,  0.68745863,\n",
       "        0.7050606 ,  0.74462545,  0.7857365 ,  0.82226956,  0.83875388,\n",
       "        0.86316299,  0.87622732,  0.90679377,  0.91179395,  0.93593454,\n",
       "        0.96412879,  0.98520374,  0.994605  ,  0.99576557,  0.99076277,\n",
       "        0.99508131,  0.99629468,  0.99605453,  0.99747378,  0.98554522], dtype=float32)"
      ]
     },
     "execution_count": 503,
     "metadata": {},
     "output_type": "execute_result"
    }
   ],
   "source": [
    "pred[0]"
   ]
  },
  {
   "cell_type": "code",
   "execution_count": 511,
   "metadata": {},
   "outputs": [],
   "source": [
    "pred_rounded = np.round(pred)"
   ]
  },
  {
   "cell_type": "code",
   "execution_count": 514,
   "metadata": {},
   "outputs": [],
   "source": [
    "for arr in pred_rounded:\n",
    "    for i in arr:\n",
    "        if i == 2.:\n",
    "            print(arr)"
   ]
  },
  {
   "cell_type": "code",
   "execution_count": null,
   "metadata": {},
   "outputs": [],
   "source": []
  },
  {
   "cell_type": "code",
   "execution_count": null,
   "metadata": {},
   "outputs": [],
   "source": []
  },
  {
   "cell_type": "code",
   "execution_count": 258,
   "metadata": {},
   "outputs": [],
   "source": [
    "def write_gold_standard(s):\n",
    "    with open('gold_lstm.txt', 'w') as f:\n",
    "        for arr in s:\n",
    "            for line in arr:\n",
    "                f.write(line)     "
   ]
  },
  {
   "cell_type": "code",
   "execution_count": null,
   "metadata": {},
   "outputs": [],
   "source": [
    "def write_submission(s):"
   ]
  },
  {
   "cell_type": "code",
   "execution_count": 259,
   "metadata": {},
   "outputs": [],
   "source": [
    "write_gold_standard(sentences[11036:])"
   ]
  },
  {
   "cell_type": "code",
   "execution_count": null,
   "metadata": {},
   "outputs": [],
   "source": []
  },
  {
   "cell_type": "code",
   "execution_count": null,
   "metadata": {},
   "outputs": [],
   "source": []
  },
  {
   "cell_type": "code",
   "execution_count": null,
   "metadata": {},
   "outputs": [],
   "source": []
  },
  {
   "cell_type": "code",
   "execution_count": null,
   "metadata": {},
   "outputs": [],
   "source": []
  },
  {
   "cell_type": "code",
   "execution_count": null,
   "metadata": {},
   "outputs": [],
   "source": []
  },
  {
   "cell_type": "code",
   "execution_count": null,
   "metadata": {},
   "outputs": [],
   "source": []
  },
  {
   "cell_type": "code",
   "execution_count": null,
   "metadata": {},
   "outputs": [],
   "source": []
  }
 ],
 "metadata": {
  "kernelspec": {
   "display_name": "Python 3",
   "language": "python",
   "name": "python3"
  },
  "language_info": {
   "codemirror_mode": {
    "name": "ipython",
    "version": 3
   },
   "file_extension": ".py",
   "mimetype": "text/x-python",
   "name": "python",
   "nbconvert_exporter": "python",
   "pygments_lexer": "ipython3",
   "version": "3.5.2"
  }
 },
 "nbformat": 4,
 "nbformat_minor": 2
}
