{
 "cells": [
  {
   "cell_type": "markdown",
   "metadata": {},
   "source": [
    "# K-Means Clustering for Sections"
   ]
  },
  {
   "cell_type": "code",
   "execution_count": 88,
   "metadata": {
    "collapsed": true
   },
   "outputs": [],
   "source": [
    "import re\n",
    "import glob\n",
    "import string\n",
    "\n",
    "import pandas as pd\n",
    "\n",
    "from sklearn.feature_extraction.text import TfidfVectorizer\n",
    "from sklearn.metrics.pairwise import cosine_similarity\n",
    "\n",
    "from sklearn.externals import joblib\n",
    "\n",
    "from sklearn.cluster import KMeans\n",
    "\n",
    "from sklearn.mixture import GaussianMixture"
   ]
  },
  {
   "cell_type": "code",
   "execution_count": 89,
   "metadata": {
    "collapsed": false
   },
   "outputs": [],
   "source": [
    "list_of_dfs = []\n",
    "\n",
    "for f in glob.glob('sections/*.csv'):\n",
    "    list_of_dfs.append(pd.read_csv(f, encoding='utf-8-sig'))"
   ]
  },
  {
   "cell_type": "code",
   "execution_count": 90,
   "metadata": {
    "collapsed": false
   },
   "outputs": [
    {
     "data": {
      "text/html": [
       "<div>\n",
       "<style>\n",
       "    .dataframe thead tr:only-child th {\n",
       "        text-align: right;\n",
       "    }\n",
       "\n",
       "    .dataframe thead th {\n",
       "        text-align: left;\n",
       "    }\n",
       "\n",
       "    .dataframe tbody tr th {\n",
       "        vertical-align: top;\n",
       "    }\n",
       "</style>\n",
       "<table border=\"1\" class=\"dataframe\">\n",
       "  <thead>\n",
       "    <tr style=\"text-align: right;\">\n",
       "      <th></th>\n",
       "      <th>country</th>\n",
       "      <th>iso</th>\n",
       "      <th>gdp</th>\n",
       "      <th>population</th>\n",
       "      <th>year</th>\n",
       "      <th>tariff_f</th>\n",
       "      <th>duty_f</th>\n",
       "      <th>quota_f</th>\n",
       "      <th>voluntary_restraint_f</th>\n",
       "      <th>subsidy_f</th>\n",
       "      <th>...</th>\n",
       "      <th>copyright_lf</th>\n",
       "      <th>countervailing_lf</th>\n",
       "      <th>unfair_lf</th>\n",
       "      <th>fair_trade_lf</th>\n",
       "      <th>trade_facilitation_lf</th>\n",
       "      <th>section_number</th>\n",
       "      <th>section_name</th>\n",
       "      <th>words</th>\n",
       "      <th>paragraphs</th>\n",
       "      <th>text</th>\n",
       "    </tr>\n",
       "  </thead>\n",
       "  <tbody>\n",
       "    <tr>\n",
       "      <th>0</th>\n",
       "      <td>guyana</td>\n",
       "      <td>GUY</td>\n",
       "      <td>3.446266e+09</td>\n",
       "      <td>773303.0</td>\n",
       "      <td>2015</td>\n",
       "      <td>0</td>\n",
       "      <td>0</td>\n",
       "      <td>0</td>\n",
       "      <td>0</td>\n",
       "      <td>0</td>\n",
       "      <td>...</td>\n",
       "      <td>0</td>\n",
       "      <td>0</td>\n",
       "      <td>0</td>\n",
       "      <td>0</td>\n",
       "      <td>0</td>\n",
       "      <td>3.1.1</td>\n",
       "      <td>export documentation and procedures</td>\n",
       "      <td>132</td>\n",
       "      <td>4</td>\n",
       "      <td>['3.2.1  Export documentation and procedures',...</td>\n",
       "    </tr>\n",
       "    <tr>\n",
       "      <th>1</th>\n",
       "      <td>hong_kong_china</td>\n",
       "      <td>HKG</td>\n",
       "      <td>3.210000e+11</td>\n",
       "      <td>7346700.0</td>\n",
       "      <td>2014</td>\n",
       "      <td>0</td>\n",
       "      <td>0</td>\n",
       "      <td>0</td>\n",
       "      <td>0</td>\n",
       "      <td>0</td>\n",
       "      <td>...</td>\n",
       "      <td>0</td>\n",
       "      <td>0</td>\n",
       "      <td>0</td>\n",
       "      <td>0</td>\n",
       "      <td>0</td>\n",
       "      <td>3.1.1</td>\n",
       "      <td>export documentation and procedures</td>\n",
       "      <td>203</td>\n",
       "      <td>2</td>\n",
       "      <td>['3.3.1  Export documents and procedures', '3....</td>\n",
       "    </tr>\n",
       "  </tbody>\n",
       "</table>\n",
       "<p>2 rows × 52 columns</p>\n",
       "</div>"
      ],
      "text/plain": [
       "           country  iso           gdp  population  year  tariff_f  duty_f  \\\n",
       "0           guyana  GUY  3.446266e+09    773303.0  2015         0       0   \n",
       "1  hong_kong_china  HKG  3.210000e+11   7346700.0  2014         0       0   \n",
       "\n",
       "   quota_f  voluntary_restraint_f  subsidy_f  \\\n",
       "0        0                      0          0   \n",
       "1        0                      0          0   \n",
       "\n",
       "                         ...                          copyright_lf  \\\n",
       "0                        ...                                     0   \n",
       "1                        ...                                     0   \n",
       "\n",
       "   countervailing_lf  unfair_lf  fair_trade_lf  trade_facilitation_lf  \\\n",
       "0                  0          0              0                      0   \n",
       "1                  0          0              0                      0   \n",
       "\n",
       "   section_number                         section_name  words  paragraphs  \\\n",
       "0           3.1.1  export documentation and procedures    132           4   \n",
       "1           3.1.1  export documentation and procedures    203           2   \n",
       "\n",
       "                                                text  \n",
       "0  ['3.2.1  Export documentation and procedures',...  \n",
       "1  ['3.3.1  Export documents and procedures', '3....  \n",
       "\n",
       "[2 rows x 52 columns]"
      ]
     },
     "execution_count": 90,
     "metadata": {},
     "output_type": "execute_result"
    }
   ],
   "source": [
    "list_of_dfs[0]"
   ]
  },
  {
   "cell_type": "code",
   "execution_count": 91,
   "metadata": {
    "collapsed": false
   },
   "outputs": [],
   "source": [
    "#doc list with section tag\n",
    "section_text = []\n",
    "section_names = []\n",
    "\n",
    "translator = str.maketrans('', '', string.punctuation)\n",
    "\n",
    "for df in list_of_dfs:\n",
    "    text = ' '.join(list(df['text'].values))\n",
    "    \n",
    "    s = re.sub(r'\\d+', '', text)\n",
    "    ns = s.translate(translator)\n",
    "    \n",
    "    section_text.append(' '.join(ns.split()).lower())\n",
    "    section_names.append(df['section_name'].values[0])"
   ]
  },
  {
   "cell_type": "code",
   "execution_count": 92,
   "metadata": {
    "collapsed": false
   },
   "outputs": [
    {
     "name": "stdout",
     "output_type": "stream",
     "text": [
      "('export documentation and procedures', 'export documentation and procedures procedures applied to exports are similar to those applied to imports exporters must register with the gra predeparture declarations for exports must be submitted to the gra with the operation of the risk management unit in not all exports are subject to physical inspection except exports to the united states and the united kingdom the presence of a customs officer at exporters premises when containers are loaded is no longer necessary export containers are subject to scanning based on risk profiling when necessary physical inspections are conducted on consignments that are deemed to have high risks implementations of risk profiling have reportedly reduced inspections of shipments there are some additional measures applied to exports of forestry products section there are also facilitation measures provided for exports of perishable goods export documents and procedures an export declaration must be lodged electronically with the customs and excise department ced within days of the export of a consignment except for exempted articles declarations are also required for reexports in general required shipping documents include the manifest commercial invoice bill of ladingair waybill packing list and other documents such as removal permits licencepermitcertificateauthorization required by law upon exportation of controlled items exports are not subject to any customs actions unless they are selected for customs verification and inspection through risk profiling cargo detained for further checks which is a very small percentage of the volume of consignments is generally released within minutes while a certificate of origin co is not mandatory for exports of goods the authorities administer an origin certification system to facilitate hkcs exports in particular this system helps exporters meet the requirements of importing countries and benefit from trade preferences generalized preference certificates are issued for exports to canada and russia certificates of hong kong origin – cepa cocepa for exports to mainland china and certificates of hong kong origin – new zealand conz for exports to new zealand only registered manufacturers with verified capability to perform the originconferring processes of their registered products may apply for cos')\n"
     ]
    }
   ],
   "source": [
    "print((section_names[0], section_text[0]))"
   ]
  },
  {
   "cell_type": "code",
   "execution_count": 93,
   "metadata": {
    "collapsed": true
   },
   "outputs": [],
   "source": [
    "tfidf_vectorizer = TfidfVectorizer()\n",
    "tfidf_matrix = tfidf_vectorizer.fit_transform(section_text)"
   ]
  },
  {
   "cell_type": "code",
   "execution_count": 94,
   "metadata": {
    "collapsed": false
   },
   "outputs": [
    {
     "data": {
      "text/plain": [
       "(254, 23969)"
      ]
     },
     "execution_count": 94,
     "metadata": {},
     "output_type": "execute_result"
    }
   ],
   "source": [
    "tfidf_matrix.shape"
   ]
  },
  {
   "cell_type": "code",
   "execution_count": 95,
   "metadata": {
    "collapsed": false
   },
   "outputs": [
    {
     "data": {
      "text/plain": [
       "array([[ -2.22044605e-16,   6.78987591e-01,   6.31104700e-01, ...,\n",
       "          6.43775253e-01,   7.15299864e-01,   6.21476217e-01],\n",
       "       [  6.78987591e-01,   0.00000000e+00,   6.35851126e-01, ...,\n",
       "          5.71018456e-01,   6.70875728e-01,   5.38523141e-01],\n",
       "       [  6.31104700e-01,   6.35851126e-01,  -2.22044605e-16, ...,\n",
       "          5.60234044e-01,   7.14616340e-01,   6.30806583e-01],\n",
       "       ..., \n",
       "       [  6.43775253e-01,   5.71018456e-01,   5.60234044e-01, ...,\n",
       "          1.11022302e-16,   6.41397524e-01,   5.46563524e-01],\n",
       "       [  7.15299864e-01,   6.70875728e-01,   7.14616340e-01, ...,\n",
       "          6.41397524e-01,  -2.22044605e-16,   6.50818362e-01],\n",
       "       [  6.21476217e-01,   5.38523141e-01,   6.30806583e-01, ...,\n",
       "          5.46563524e-01,   6.50818362e-01,  -2.22044605e-16]])"
      ]
     },
     "execution_count": 95,
     "metadata": {},
     "output_type": "execute_result"
    }
   ],
   "source": [
    "dist = 1 - cosine_similarity(tfidf_matrix)\n",
    "dist"
   ]
  },
  {
   "cell_type": "markdown",
   "metadata": {},
   "source": [
    ">Change \"num_clusters\" below to designated number."
   ]
  },
  {
   "cell_type": "code",
   "execution_count": 96,
   "metadata": {
    "collapsed": false
   },
   "outputs": [
    {
     "name": "stdout",
     "output_type": "stream",
     "text": [
      "CPU times: user 5.93 s, sys: 607 ms, total: 6.54 s\n",
      "Wall time: 6.09 s\n"
     ]
    },
    {
     "data": {
      "text/plain": [
       "KMeans(algorithm='auto', copy_x=True, init='k-means++', max_iter=300,\n",
       "    n_clusters=12, n_init=10, n_jobs=1, precompute_distances='auto',\n",
       "    random_state=2, tol=0.0001, verbose=0)"
      ]
     },
     "execution_count": 96,
     "metadata": {},
     "output_type": "execute_result"
    }
   ],
   "source": [
    "num_clusters = 12\n",
    "\n",
    "km = KMeans(n_clusters=num_clusters, random_state=2)\n",
    "#km = GaussianMixture(n_components=1)\n",
    "\n",
    "%time km.fit(tfidf_matrix.toarray())"
   ]
  },
  {
   "cell_type": "code",
   "execution_count": 97,
   "metadata": {
    "collapsed": true
   },
   "outputs": [],
   "source": [
    "clusters = km.labels_.tolist()"
   ]
  },
  {
   "cell_type": "code",
   "execution_count": 98,
   "metadata": {
    "collapsed": false
   },
   "outputs": [],
   "source": [
    "sections_dict = {'section_names' : section_names, 'clusters' : clusters}\n",
    "df = pd.DataFrame(sections_dict, index=[clusters], columns=['section_names', 'clusters'])"
   ]
  },
  {
   "cell_type": "code",
   "execution_count": 99,
   "metadata": {
    "collapsed": false
   },
   "outputs": [
    {
     "data": {
      "text/html": [
       "<div>\n",
       "<style>\n",
       "    .dataframe thead tr:only-child th {\n",
       "        text-align: right;\n",
       "    }\n",
       "\n",
       "    .dataframe thead th {\n",
       "        text-align: left;\n",
       "    }\n",
       "\n",
       "    .dataframe tbody tr th {\n",
       "        vertical-align: top;\n",
       "    }\n",
       "</style>\n",
       "<table border=\"1\" class=\"dataframe\">\n",
       "  <thead>\n",
       "    <tr style=\"text-align: right;\">\n",
       "      <th></th>\n",
       "      <th>section_names</th>\n",
       "      <th>clusters</th>\n",
       "    </tr>\n",
       "  </thead>\n",
       "  <tbody>\n",
       "    <tr>\n",
       "      <th>3</th>\n",
       "      <td>export documentation and procedures</td>\n",
       "      <td>3</td>\n",
       "    </tr>\n",
       "    <tr>\n",
       "      <th>0</th>\n",
       "      <td>other charges</td>\n",
       "      <td>0</td>\n",
       "    </tr>\n",
       "    <tr>\n",
       "      <th>0</th>\n",
       "      <td>export incentives</td>\n",
       "      <td>0</td>\n",
       "    </tr>\n",
       "    <tr>\n",
       "      <th>3</th>\n",
       "      <td>registration customs documents and procedures</td>\n",
       "      <td>3</td>\n",
       "    </tr>\n",
       "    <tr>\n",
       "      <th>3</th>\n",
       "      <td>customs procedures and valuation</td>\n",
       "      <td>3</td>\n",
       "    </tr>\n",
       "    <tr>\n",
       "      <th>6</th>\n",
       "      <td>export prohibitions authorizations and licensing</td>\n",
       "      <td>6</td>\n",
       "    </tr>\n",
       "    <tr>\n",
       "      <th>3</th>\n",
       "      <td>export subsidies promotion and assistance</td>\n",
       "      <td>3</td>\n",
       "    </tr>\n",
       "    <tr>\n",
       "      <th>6</th>\n",
       "      <td>prohibitions licensing and controls</td>\n",
       "      <td>6</td>\n",
       "    </tr>\n",
       "    <tr>\n",
       "      <th>0</th>\n",
       "      <td>tariffs and other charges affecting imports</td>\n",
       "      <td>0</td>\n",
       "    </tr>\n",
       "    <tr>\n",
       "      <th>0</th>\n",
       "      <td>export duty drawback</td>\n",
       "      <td>0</td>\n",
       "    </tr>\n",
       "    <tr>\n",
       "      <th>0</th>\n",
       "      <td>export procedures taxes and restrictions</td>\n",
       "      <td>0</td>\n",
       "    </tr>\n",
       "    <tr>\n",
       "      <th>3</th>\n",
       "      <td>duties and taxes</td>\n",
       "      <td>3</td>\n",
       "    </tr>\n",
       "    <tr>\n",
       "      <th>3</th>\n",
       "      <td>contingency measures</td>\n",
       "      <td>3</td>\n",
       "    </tr>\n",
       "    <tr>\n",
       "      <th>0</th>\n",
       "      <td>export procedures taxes and levies</td>\n",
       "      <td>0</td>\n",
       "    </tr>\n",
       "    <tr>\n",
       "      <th>9</th>\n",
       "      <td>non-tax incentives and other assistances</td>\n",
       "      <td>9</td>\n",
       "    </tr>\n",
       "    <tr>\n",
       "      <th>9</th>\n",
       "      <td>foreign investment location incentives</td>\n",
       "      <td>9</td>\n",
       "    </tr>\n",
       "    <tr>\n",
       "      <th>3</th>\n",
       "      <td>registration documentation clearance inspectio...</td>\n",
       "      <td>3</td>\n",
       "    </tr>\n",
       "    <tr>\n",
       "      <th>3</th>\n",
       "      <td>customs procedures valuation and requirements</td>\n",
       "      <td>3</td>\n",
       "    </tr>\n",
       "    <tr>\n",
       "      <th>0</th>\n",
       "      <td>export subsidies and inward processing</td>\n",
       "      <td>0</td>\n",
       "    </tr>\n",
       "    <tr>\n",
       "      <th>0</th>\n",
       "      <td>export processing zones</td>\n",
       "      <td>0</td>\n",
       "    </tr>\n",
       "    <tr>\n",
       "      <th>9</th>\n",
       "      <td>small and medium-sized enterprises and assistance</td>\n",
       "      <td>9</td>\n",
       "    </tr>\n",
       "    <tr>\n",
       "      <th>3</th>\n",
       "      <td>free economic zones and industrial parks</td>\n",
       "      <td>3</td>\n",
       "    </tr>\n",
       "    <tr>\n",
       "      <th>3</th>\n",
       "      <td>customs valuation</td>\n",
       "      <td>3</td>\n",
       "    </tr>\n",
       "    <tr>\n",
       "      <th>3</th>\n",
       "      <td>national security review of concentrations</td>\n",
       "      <td>3</td>\n",
       "    </tr>\n",
       "    <tr>\n",
       "      <th>11</th>\n",
       "      <td>state trading state-owned enterprises and priv...</td>\n",
       "      <td>11</td>\n",
       "    </tr>\n",
       "    <tr>\n",
       "      <th>3</th>\n",
       "      <td>preshipment inspection</td>\n",
       "      <td>3</td>\n",
       "    </tr>\n",
       "    <tr>\n",
       "      <th>0</th>\n",
       "      <td>marking labelling and packaging</td>\n",
       "      <td>0</td>\n",
       "    </tr>\n",
       "    <tr>\n",
       "      <th>0</th>\n",
       "      <td>customs levies</td>\n",
       "      <td>0</td>\n",
       "    </tr>\n",
       "    <tr>\n",
       "      <th>3</th>\n",
       "      <td>export prohibitions restrictions and controls</td>\n",
       "      <td>3</td>\n",
       "    </tr>\n",
       "    <tr>\n",
       "      <th>0</th>\n",
       "      <td>procedures export taxes and restrictions</td>\n",
       "      <td>0</td>\n",
       "    </tr>\n",
       "    <tr>\n",
       "      <th>...</th>\n",
       "      <td>...</td>\n",
       "      <td>...</td>\n",
       "    </tr>\n",
       "    <tr>\n",
       "      <th>6</th>\n",
       "      <td>prohibitions quantitative restrictions licensi...</td>\n",
       "      <td>6</td>\n",
       "    </tr>\n",
       "    <tr>\n",
       "      <th>3</th>\n",
       "      <td>sanitary and phytosanitary measures</td>\n",
       "      <td>3</td>\n",
       "    </tr>\n",
       "    <tr>\n",
       "      <th>3</th>\n",
       "      <td>customs clearance</td>\n",
       "      <td>3</td>\n",
       "    </tr>\n",
       "    <tr>\n",
       "      <th>11</th>\n",
       "      <td>state-owned enterprises</td>\n",
       "      <td>11</td>\n",
       "    </tr>\n",
       "    <tr>\n",
       "      <th>6</th>\n",
       "      <td>import prohibitions quantitative restrictions ...</td>\n",
       "      <td>6</td>\n",
       "    </tr>\n",
       "    <tr>\n",
       "      <th>3</th>\n",
       "      <td>customs valuation and pre-shipment inspection</td>\n",
       "      <td>3</td>\n",
       "    </tr>\n",
       "    <tr>\n",
       "      <th>3</th>\n",
       "      <td>requirements with regard to packaging marking ...</td>\n",
       "      <td>3</td>\n",
       "    </tr>\n",
       "    <tr>\n",
       "      <th>3</th>\n",
       "      <td>import procedures and customs valuation</td>\n",
       "      <td>3</td>\n",
       "    </tr>\n",
       "    <tr>\n",
       "      <th>3</th>\n",
       "      <td>customs valuation and classification</td>\n",
       "      <td>3</td>\n",
       "    </tr>\n",
       "    <tr>\n",
       "      <th>0</th>\n",
       "      <td>other import charges and taxes affecting imports</td>\n",
       "      <td>0</td>\n",
       "    </tr>\n",
       "    <tr>\n",
       "      <th>3</th>\n",
       "      <td>export procedures</td>\n",
       "      <td>3</td>\n",
       "    </tr>\n",
       "    <tr>\n",
       "      <th>9</th>\n",
       "      <td>non-tax incentives</td>\n",
       "      <td>9</td>\n",
       "    </tr>\n",
       "    <tr>\n",
       "      <th>3</th>\n",
       "      <td>preshipment or at-destination inspection</td>\n",
       "      <td>3</td>\n",
       "    </tr>\n",
       "    <tr>\n",
       "      <th>3</th>\n",
       "      <td>incentives and assistance</td>\n",
       "      <td>3</td>\n",
       "    </tr>\n",
       "    <tr>\n",
       "      <th>9</th>\n",
       "      <td>export subsidies finance and guarantees</td>\n",
       "      <td>9</td>\n",
       "    </tr>\n",
       "    <tr>\n",
       "      <th>11</th>\n",
       "      <td>competition policy state aid and price controls</td>\n",
       "      <td>11</td>\n",
       "    </tr>\n",
       "    <tr>\n",
       "      <th>5</th>\n",
       "      <td>duty and tax concessions epzs export performan...</td>\n",
       "      <td>5</td>\n",
       "    </tr>\n",
       "    <tr>\n",
       "      <th>0</th>\n",
       "      <td>export fees</td>\n",
       "      <td>0</td>\n",
       "    </tr>\n",
       "    <tr>\n",
       "      <th>3</th>\n",
       "      <td>tariff concessions</td>\n",
       "      <td>3</td>\n",
       "    </tr>\n",
       "    <tr>\n",
       "      <th>11</th>\n",
       "      <td>state trading</td>\n",
       "      <td>11</td>\n",
       "    </tr>\n",
       "    <tr>\n",
       "      <th>6</th>\n",
       "      <td>import prohibitions and restrictions and impor...</td>\n",
       "      <td>6</td>\n",
       "    </tr>\n",
       "    <tr>\n",
       "      <th>6</th>\n",
       "      <td>export prohibitions regulations and permits</td>\n",
       "      <td>6</td>\n",
       "    </tr>\n",
       "    <tr>\n",
       "      <th>9</th>\n",
       "      <td>export credit insurance and guarantees</td>\n",
       "      <td>9</td>\n",
       "    </tr>\n",
       "    <tr>\n",
       "      <th>11</th>\n",
       "      <td>privatization</td>\n",
       "      <td>11</td>\n",
       "    </tr>\n",
       "    <tr>\n",
       "      <th>3</th>\n",
       "      <td>procedures</td>\n",
       "      <td>3</td>\n",
       "    </tr>\n",
       "    <tr>\n",
       "      <th>0</th>\n",
       "      <td>fiscal incentives</td>\n",
       "      <td>0</td>\n",
       "    </tr>\n",
       "    <tr>\n",
       "      <th>10</th>\n",
       "      <td>tariffs and other duties and taxes</td>\n",
       "      <td>10</td>\n",
       "    </tr>\n",
       "    <tr>\n",
       "      <th>9</th>\n",
       "      <td>export promotion and support</td>\n",
       "      <td>9</td>\n",
       "    </tr>\n",
       "    <tr>\n",
       "      <th>2</th>\n",
       "      <td>standards and technical requirements</td>\n",
       "      <td>2</td>\n",
       "    </tr>\n",
       "    <tr>\n",
       "      <th>3</th>\n",
       "      <td>pre- and post-shipment inspection</td>\n",
       "      <td>3</td>\n",
       "    </tr>\n",
       "  </tbody>\n",
       "</table>\n",
       "<p>254 rows × 2 columns</p>\n",
       "</div>"
      ],
      "text/plain": [
       "                                        section_names  clusters\n",
       "3                 export documentation and procedures         3\n",
       "0                                       other charges         0\n",
       "0                                   export incentives         0\n",
       "3       registration customs documents and procedures         3\n",
       "3                    customs procedures and valuation         3\n",
       "6    export prohibitions authorizations and licensing         6\n",
       "3           export subsidies promotion and assistance         3\n",
       "6                 prohibitions licensing and controls         6\n",
       "0         tariffs and other charges affecting imports         0\n",
       "0                                export duty drawback         0\n",
       "0            export procedures taxes and restrictions         0\n",
       "3                                    duties and taxes         3\n",
       "3                                contingency measures         3\n",
       "0                  export procedures taxes and levies         0\n",
       "9            non-tax incentives and other assistances         9\n",
       "9              foreign investment location incentives         9\n",
       "3   registration documentation clearance inspectio...         3\n",
       "3       customs procedures valuation and requirements         3\n",
       "0              export subsidies and inward processing         0\n",
       "0                             export processing zones         0\n",
       "9   small and medium-sized enterprises and assistance         9\n",
       "3            free economic zones and industrial parks         3\n",
       "3                                   customs valuation         3\n",
       "3          national security review of concentrations         3\n",
       "11  state trading state-owned enterprises and priv...        11\n",
       "3                              preshipment inspection         3\n",
       "0                     marking labelling and packaging         0\n",
       "0                                      customs levies         0\n",
       "3       export prohibitions restrictions and controls         3\n",
       "0            procedures export taxes and restrictions         0\n",
       "..                                                ...       ...\n",
       "6   prohibitions quantitative restrictions licensi...         6\n",
       "3                 sanitary and phytosanitary measures         3\n",
       "3                                   customs clearance         3\n",
       "11                            state-owned enterprises        11\n",
       "6   import prohibitions quantitative restrictions ...         6\n",
       "3       customs valuation and pre-shipment inspection         3\n",
       "3   requirements with regard to packaging marking ...         3\n",
       "3             import procedures and customs valuation         3\n",
       "3                customs valuation and classification         3\n",
       "0    other import charges and taxes affecting imports         0\n",
       "3                                   export procedures         3\n",
       "9                                  non-tax incentives         9\n",
       "3            preshipment or at-destination inspection         3\n",
       "3                           incentives and assistance         3\n",
       "9             export subsidies finance and guarantees         9\n",
       "11    competition policy state aid and price controls        11\n",
       "5   duty and tax concessions epzs export performan...         5\n",
       "0                                         export fees         0\n",
       "3                                  tariff concessions         3\n",
       "11                                      state trading        11\n",
       "6   import prohibitions and restrictions and impor...         6\n",
       "6         export prohibitions regulations and permits         6\n",
       "9              export credit insurance and guarantees         9\n",
       "11                                      privatization        11\n",
       "3                                          procedures         3\n",
       "0                                   fiscal incentives         0\n",
       "10                 tariffs and other duties and taxes        10\n",
       "9                        export promotion and support         9\n",
       "2                standards and technical requirements         2\n",
       "3                   pre- and post-shipment inspection         3\n",
       "\n",
       "[254 rows x 2 columns]"
      ]
     },
     "execution_count": 99,
     "metadata": {},
     "output_type": "execute_result"
    }
   ],
   "source": [
    "df"
   ]
  },
  {
   "cell_type": "code",
   "execution_count": 100,
   "metadata": {
    "collapsed": false
   },
   "outputs": [
    {
     "name": "stdout",
     "output_type": "stream",
     "text": [
      "Cluster 0: other charges, export incentives, tariffs and other charges affecting imports, export duty drawback, export procedures taxes and restrictions, export procedures taxes and levies, export subsidies and inward processing, export processing zones, marking labelling and packaging, customs levies, procedures export taxes and restrictions, internal taxes affecting imports, other duties and charges, goods in transit, export taxes and duties, other taxes, regional development programmes, export-processing zones, internal taxes, technological industrial development zones, other taxes and charges, taxes charges and levies, export duties charges and levies, tax, state trading enterprises, export taxes charges and levies, export taxes and charges, legal framework for businesses registration and licensing, application of internal taxes, incorporation of companies and their tax regime, taxes and other export levies, export operations of state enterprises monopolies, levies at the border, export taxes charges levies and quotas, export assistance and incentives, export taxes fees and charges for services rendered, documentation export taxes and restrictions, export taxes and levies, free zones and special economic areas, tariff rate quotas, labelling and marking, minimum export prices, export taxes charges levies and minimum prices, internal taxes collected at the border, procedures and export taxes, other duties and taxes, duty drawback, export charges and minimum prices, market values for exports, other charges affecting imports, tariff-rate quotas and tariff exemptions, customs duties, other levies and charges, tax and incentives, export duties and taxes, trade-related investment measures, countertrade, free trade zones, legislative and regulatory framework, free zones and other measures, local content requirements, mfn taxation of imports, duty and tax exemptions and concessions, export taxes, other import charges and taxes affecting imports, export fees, fiscal incentives,\n",
      "\n",
      "Cluster 1: export subsidies and incentives, incentives subsidies and other government assistance,\n",
      "\n",
      "Cluster 2: technical regulations and standards, standards technical requirements and conformity assessment, standards technical regulations and accreditation, standards and other technical regulations, standardization accreditation and certification, standard and other technical regulations, standards technical regulations and other requirements, standards and technical regulations including sanitary and phytosanitary, technical barriers to trade standards and certification, standards testing and certification and labelling, labelling and packaging requirements, standards and technical requirements,\n",
      "\n",
      "Cluster 3: export documentation and procedures, registration customs documents and procedures, customs procedures and valuation, export subsidies promotion and assistance, duties and taxes, contingency measures, registration documentation clearance inspection and minimum prices, customs procedures valuation and requirements, free economic zones and industrial parks, customs valuation, national security review of concentrations, preshipment inspection, export prohibitions restrictions and controls, customs procedures and regulations, anti-dumping countervailing and safeguard measures, export subsidies and promotion, transit, procedures and documentation, business registration and licensing, registration documentation and export licences, trade facilitation, preferential and non-preferential rules of origin, subsidies, other measures, dispute settlement and appeals procedures, trade-related intellectual property regime, intellectual property rights, customs procedures documentation and registration, procedures documents and registration, export support, protection of intellectual property, industrial free zones regime, legal framework for business, prohibitions and controls, inspection and other export procedures, export subsidies, tariff quotas and tariff exemptions, customs procedures customs valuation and rules of origin, business framework, customs procedures, registration and customs procedures, fees and charges for services rendered, exports under preferential regimes, registration, registration documentation and customs procedures, industrial property rights, support for exports, export prohibitions and controls, registration documentation and clearance, government procurement, rules of origin and tariff preferences, free zones and enterprises regime, incentives, preshipment inspection and customs valuation, registration and documentation, packaging marking and labelling requirements, waste shipment trade regime, import procedures and requirements, rules of origin, sanitary and phytosanitary measures, customs clearance, customs valuation and pre-shipment inspection, requirements with regard to packaging marking and labelling, import procedures and customs valuation, customs valuation and classification, export procedures, preshipment or at-destination inspection, incentives and assistance, tariff concessions, procedures, pre- and post-shipment inspection,\n",
      "\n",
      "Cluster 4: export control, export subsidies and other tax benefits,\n",
      "\n",
      "Cluster 5: export subsidies and duty and tax concessions, tariff quotas, tariff and tax concessions, duty and tax concessions epzs export performance requirements,\n",
      "\n",
      "Cluster 6: export prohibitions authorizations and licensing, prohibitions licensing and controls, export prohibitions and restrictions and licensing regimes, export prohibitions and restrictions, prohibitions quantitative restrictions export controls and licensing, export restrictions, prohibitions licensing and other restrictions, export prohibitions and licensing, import prohibitions quotas restrictions and licensing, import licensing prohibitions and other restrictions, import prohibitions restrictions and licensing, import prohibitions and licensing, prohibitions quantitative restrictions and licences, prohibitions and other export restrictions, export prohibitions controls and licensing, prohibitions quantitative restrictions licensing and prior authorization, import prohibitions quantitative restrictions licensing and prior authorization, import prohibitions and restrictions and import licensing, export prohibitions regulations and permits,\n",
      "\n",
      "Cluster 7: consumer policy and protection,\n",
      "\n",
      "Cluster 8: import licensing quotas and prohibitions, import controls, import prohibitions quantitative restrictions on imports and other import, import prohibitions restrictions and special requirements,\n",
      "\n",
      "Cluster 9: non-tax incentives and other assistances, foreign investment location incentives, small and medium-sized enterprises and assistance, export finance and export promotion, export finance promotion and marketing assistance insurance and guarantees, export promotion and marketing, financing insurance and promotion, export assistance and promotion, export finance and insurance, export assistance and facilitation, export support financing and promotion, production assistance, foreign exchange surrender and conversion requirements, subsidies and other assistance programmes, industrial policy including subsidies, export subsidies financing insurance and promotion, incentives state aid and subsidies, export assistance, export support and promotion, incentives and subsidies, export subsidies finance insurance and assistance, export finance insurance guarantees and assistance, export support and facilitation, other forms of assistance, financing insurance and guarantees, export credit insurance and promotion, export support promotion guarantee and insurance, export promotion finance insurance and guarantees, export promotion, financial assistance, zones, export subsidies and support, research and development support, other export support measures, state trading state-owned enterprises, non-tax incentives, export subsidies finance and guarantees, export credit insurance and guarantees, export promotion and support,\n",
      "\n",
      "Cluster 10: tariffs and excise duties, tariffs, ordinary customs duties, tariff schedule, export duties, preferential tariffs, preferences, bindings, tariff preferences, tariffs and other duties and taxes,\n",
      "\n",
      "Cluster 11: state trading state-owned enterprises and privatization, competition policy state aid consumer protection and price controls, competition policy, corporate governance, government trading enterprises, government-linked companies, state-owned enterprises privatization and state trading, state-owned enterprises and privatization, state involvement in production and trade, state trading public enterprises and privatization, state trading government enterprises and privatization, competition policy consumer protection and price controls, competition and price control, state involvement in the economy, competition and consumer policy, price controls, state trading and import-related operations of state enterprises, competition policy and regulatory issues, role of state-owned enterprises and privatization, state-owned enterprises, competition policy state aid and price controls, state trading, privatization,\n",
      "\n"
     ]
    }
   ],
   "source": [
    "#Note: line directly below is used in visualization only\n",
    "cluster_samples = {}\n",
    "\n",
    "order_centroids = km.cluster_centers_.argsort()[:, ::-1] \n",
    "\n",
    "c_counter = 0\n",
    "names = list(df['section_names'].values)\n",
    "clus = list(df['clusters'].values)\n",
    "\n",
    "for i in range(num_clusters):\n",
    "    print(\"Cluster %d:\" % i, end='')\n",
    "    \n",
    "    s_list = []\n",
    "    \n",
    "    for c in range(len(clus)):\n",
    "        if clus[c] == i:\n",
    "            print(' %s,' % names[c], end='')\n",
    "            s_list.append(names[c])\n",
    "        \n",
    "    cluster_samples[c_counter] = s_list[:2]\n",
    "    c_counter+=1\n",
    "            \n",
    "    print('\\n')"
   ]
  },
  {
   "cell_type": "code",
   "execution_count": 101,
   "metadata": {
    "collapsed": false
   },
   "outputs": [
    {
     "data": {
      "text/plain": [
       "{0: ['other charges', 'export incentives'],\n",
       " 1: ['export subsidies and incentives',\n",
       "  'incentives subsidies and other government assistance'],\n",
       " 2: ['technical regulations and standards',\n",
       "  'standards technical requirements and conformity assessment'],\n",
       " 3: ['export documentation and procedures',\n",
       "  'registration customs documents and procedures'],\n",
       " 4: ['export control', 'export subsidies and other tax benefits'],\n",
       " 5: ['export subsidies and duty and tax concessions', 'tariff quotas'],\n",
       " 6: ['export prohibitions authorizations and licensing',\n",
       "  'prohibitions licensing and controls'],\n",
       " 7: ['consumer policy and protection'],\n",
       " 8: ['import licensing quotas and prohibitions', 'import controls'],\n",
       " 9: ['non-tax incentives and other assistances',\n",
       "  'foreign investment location incentives'],\n",
       " 10: ['tariffs and excise duties', 'tariffs'],\n",
       " 11: ['state trading state-owned enterprises and privatization',\n",
       "  'competition policy state aid consumer protection and price controls']}"
      ]
     },
     "execution_count": 101,
     "metadata": {},
     "output_type": "execute_result"
    }
   ],
   "source": [
    "cluster_samples"
   ]
  },
  {
   "cell_type": "markdown",
   "metadata": {},
   "source": [
    "# Visualization\n",
    "\n",
    ">**NOTE:** We only have 22 colors -- add more if # clusters > 22."
   ]
  },
  {
   "cell_type": "code",
   "execution_count": 102,
   "metadata": {
    "collapsed": false
   },
   "outputs": [],
   "source": [
    "import random\n",
    "\n",
    "import matplotlib.pyplot as plt\n",
    "import matplotlib as mpl\n",
    "\n",
    "from sklearn.decomposition import PCA\n",
    "\n",
    "pca = PCA(n_components=2, random_state=1)\n",
    "points = pca.fit_transform(dist)\n",
    "\n",
    "xs, ys = points[:, 0], points[:, 1]"
   ]
  },
  {
   "cell_type": "code",
   "execution_count": 107,
   "metadata": {
    "collapsed": true
   },
   "outputs": [],
   "source": [
    "possible_colors = ['#FA5858', '#B40404', '#610B0B', '#FAAC58', '#DF7401', '#FFFF00',\n",
    "                   '#AEB404', '#BFFF00', '#86B404', '#80FF00', '#58FAF4', '#086A87',\n",
    "                   '#2E64FE', '#0404B4', '#8258FA', '#4B088A', '#FF00FF', '#B4045F',\n",
    "                   '#FA58D0', '#A4A4A4', '#000000', '#886A08']\n",
    " \n",
    "#names are the dict from above: cluster_samples\n",
    "cluster_colors = {}\n",
    "\n",
    "prev_picks = []\n",
    "counter = 0\n",
    "while len(cluster_colors) < num_clusters:\n",
    "    pick_random = random.randint(a=0, b=len(possible_colors)-1)\n",
    "    if pick_random not in prev_picks:\n",
    "        cluster_colors[counter] = possible_colors[pick_random]\n",
    "        prev_picks.append(pick_random)\n",
    "        counter += 1"
   ]
  },
  {
   "cell_type": "code",
   "execution_count": 108,
   "metadata": {
    "collapsed": false
   },
   "outputs": [
    {
     "data": {
      "image/png": "[encoded data removed]",
      "text/plain": [
       "<matplotlib.figure.Figure at 0x114a38be0>"
      ]
     },
     "metadata": {},
     "output_type": "display_data"
    }
   ],
   "source": [
    "%matplotlib inline \n",
    "df_vals = pd.DataFrame(dict(x=xs, y=ys, label=clusters, title=section_names)) \n",
    "groups = df_vals.groupby('label')\n",
    "\n",
    "fig, ax = plt.subplots(figsize=(16, 10))\n",
    "ax.margins(0.03)\n",
    "\n",
    "for name, group in groups:\n",
    "    ax.plot(group.x, group.y, marker='o', linestyle='', ms=10, \n",
    "            label=cluster_samples[name], color=cluster_colors[name], mec='none')\n",
    "    \n",
    "    ax.set_aspect('auto')\n",
    "    ax.tick_params(bottom='off', top='off', labelbottom='off')\n",
    "    ax.tick_params(left='off', top='off', labelleft='off')\n",
    "    \n",
    "plt.legend(bbox_to_anchor=(1, 1))\n",
    "    \n",
    "plt.show()"
   ]
  },
  {
   "cell_type": "code",
   "execution_count": null,
   "metadata": {
    "collapsed": false
   },
   "outputs": [],
   "source": []
  },
  {
   "cell_type": "code",
   "execution_count": null,
   "metadata": {
    "collapsed": true
   },
   "outputs": [],
   "source": []
  }
 ],
 "metadata": {
  "kernelspec": {
   "display_name": "Python 3",
   "language": "python",
   "name": "python3"
  },
  "language_info": {
   "codemirror_mode": {
    "name": "ipython",
    "version": 3
   },
   "file_extension": ".py",
   "mimetype": "text/x-python",
   "name": "python",
   "nbconvert_exporter": "python",
   "pygments_lexer": "ipython3",
   "version": "3.5.2"
  }
 },
 "nbformat": 4,
 "nbformat_minor": 2
}
