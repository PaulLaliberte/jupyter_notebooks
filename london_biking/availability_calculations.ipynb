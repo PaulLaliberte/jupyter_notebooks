{
 "cells": [
  {
   "cell_type": "code",
   "execution_count": 1,
   "metadata": {},
   "outputs": [],
   "source": [
    "%matplotlib inline\n",
    "%config Completer.use_jedi=False"
   ]
  },
  {
   "cell_type": "code",
   "execution_count": 2,
   "metadata": {},
   "outputs": [],
   "source": [
    "import datetime\n",
    "\n",
    "import pandas as pd\n",
    "import numpy as np\n",
    "\n",
    "from tqdm import tqdm_notebook"
   ]
  },
  {
   "cell_type": "code",
   "execution_count": null,
   "metadata": {},
   "outputs": [],
   "source": []
  },
  {
   "cell_type": "markdown",
   "metadata": {},
   "source": [
    "##### Helper Functions"
   ]
  },
  {
   "cell_type": "code",
   "execution_count": 3,
   "metadata": {},
   "outputs": [],
   "source": [
    "def datetime_range(start, end, delta):\n",
    "    current = start\n",
    "    while current < end:\n",
    "        yield current\n",
    "        current += delta"
   ]
  },
  {
   "cell_type": "code",
   "execution_count": null,
   "metadata": {},
   "outputs": [],
   "source": []
  },
  {
   "cell_type": "markdown",
   "metadata": {},
   "source": [
    "## Rush-Hour Aggregated Availabilities\n",
    "**Rush-hour time windows:**\n",
    "1. [5:30AM, 9:30AM) \n",
    "2. [16:00PM, 20:00PM)\n",
    "\n",
    "**Just before rush-hour time windows:**\n",
    "\n",
    "1. [5:00AM, 5:30AM)\n",
    "2. [4:30AM, 5:30AM)\n",
    "3. [15:30PM, 16:00PM)\n",
    "4. [15:00PM, 16:00PM)"
   ]
  },
  {
   "cell_type": "markdown",
   "metadata": {},
   "source": [
    "#### Preprocessing"
   ]
  },
  {
   "cell_type": "code",
   "execution_count": 4,
   "metadata": {},
   "outputs": [],
   "source": [
    "time_periods = [dt.strftime('%Y-%m-%d %H:%M:%S') for dt in \n",
    "                            datetime_range(datetime.datetime(2014, 1, 1, 0), datetime.datetime(2015, 1, 1, 0), \n",
    "                            datetime.timedelta(minutes=2))]\n",
    "\n",
    "def create_time_index(df):\n",
    "    df['time_period'] = pd.to_datetime(time_periods)\n",
    "    df.set_index('time_period', inplace=True)\n",
    "    \n",
    "    return df"
   ]
  },
  {
   "cell_type": "code",
   "execution_count": 5,
   "metadata": {},
   "outputs": [],
   "source": [
    "df_bikes = pd.read_csv('../../data/Pu_data/availability/available_bikes.csv', index_col=0)\n",
    "df_docks = pd.read_csv('../../data/Pu_data/availability/available_docks.csv', index_col=0)"
   ]
  },
  {
   "cell_type": "code",
   "execution_count": 6,
   "metadata": {},
   "outputs": [
    {
     "data": {
      "text/html": [
       "<div>\n",
       "<style scoped>\n",
       "    .dataframe tbody tr th:only-of-type {\n",
       "        vertical-align: middle;\n",
       "    }\n",
       "\n",
       "    .dataframe tbody tr th {\n",
       "        vertical-align: top;\n",
       "    }\n",
       "\n",
       "    .dataframe thead th {\n",
       "        text-align: right;\n",
       "    }\n",
       "</style>\n",
       "<table border=\"1\" class=\"dataframe\">\n",
       "  <thead>\n",
       "    <tr style=\"text-align: right;\">\n",
       "      <th></th>\n",
       "      <th>Station_1_bikes_available</th>\n",
       "      <th>Station_2_bikes_available</th>\n",
       "      <th>Station_3_bikes_available</th>\n",
       "      <th>Station_4_bikes_available</th>\n",
       "      <th>Station_5_bikes_available</th>\n",
       "      <th>Station_6_bikes_available</th>\n",
       "      <th>Station_7_bikes_available</th>\n",
       "      <th>Station_8_bikes_available</th>\n",
       "      <th>Station_9_bikes_available</th>\n",
       "      <th>Station_10_bikes_available</th>\n",
       "      <th>...</th>\n",
       "      <th>Station_769_bikes_available</th>\n",
       "      <th>Station_770_bikes_available</th>\n",
       "      <th>Station_771_bikes_available</th>\n",
       "      <th>Station_772_bikes_available</th>\n",
       "      <th>Station_773_bikes_available</th>\n",
       "      <th>Station_774_bikes_available</th>\n",
       "      <th>Station_775_bikes_available</th>\n",
       "      <th>Station_776_bikes_available</th>\n",
       "      <th>Station_777_bikes_available</th>\n",
       "      <th>Station_778_bikes_available</th>\n",
       "    </tr>\n",
       "    <tr>\n",
       "      <th>time_period</th>\n",
       "      <th></th>\n",
       "      <th></th>\n",
       "      <th></th>\n",
       "      <th></th>\n",
       "      <th></th>\n",
       "      <th></th>\n",
       "      <th></th>\n",
       "      <th></th>\n",
       "      <th></th>\n",
       "      <th></th>\n",
       "      <th></th>\n",
       "      <th></th>\n",
       "      <th></th>\n",
       "      <th></th>\n",
       "      <th></th>\n",
       "      <th></th>\n",
       "      <th></th>\n",
       "      <th></th>\n",
       "      <th></th>\n",
       "      <th></th>\n",
       "      <th></th>\n",
       "    </tr>\n",
       "  </thead>\n",
       "  <tbody>\n",
       "    <tr>\n",
       "      <th>2014-01-01 00:00:00</th>\n",
       "      <td>NaN</td>\n",
       "      <td>NaN</td>\n",
       "      <td>NaN</td>\n",
       "      <td>NaN</td>\n",
       "      <td>NaN</td>\n",
       "      <td>NaN</td>\n",
       "      <td>NaN</td>\n",
       "      <td>NaN</td>\n",
       "      <td>NaN</td>\n",
       "      <td>NaN</td>\n",
       "      <td>...</td>\n",
       "      <td>NaN</td>\n",
       "      <td>NaN</td>\n",
       "      <td>NaN</td>\n",
       "      <td>NaN</td>\n",
       "      <td>NaN</td>\n",
       "      <td>NaN</td>\n",
       "      <td>NaN</td>\n",
       "      <td>NaN</td>\n",
       "      <td>NaN</td>\n",
       "      <td>NaN</td>\n",
       "    </tr>\n",
       "    <tr>\n",
       "      <th>2014-01-01 00:02:00</th>\n",
       "      <td>NaN</td>\n",
       "      <td>NaN</td>\n",
       "      <td>NaN</td>\n",
       "      <td>NaN</td>\n",
       "      <td>NaN</td>\n",
       "      <td>NaN</td>\n",
       "      <td>NaN</td>\n",
       "      <td>NaN</td>\n",
       "      <td>NaN</td>\n",
       "      <td>NaN</td>\n",
       "      <td>...</td>\n",
       "      <td>NaN</td>\n",
       "      <td>NaN</td>\n",
       "      <td>NaN</td>\n",
       "      <td>NaN</td>\n",
       "      <td>NaN</td>\n",
       "      <td>NaN</td>\n",
       "      <td>NaN</td>\n",
       "      <td>NaN</td>\n",
       "      <td>NaN</td>\n",
       "      <td>NaN</td>\n",
       "    </tr>\n",
       "    <tr>\n",
       "      <th>2014-01-01 00:04:00</th>\n",
       "      <td>NaN</td>\n",
       "      <td>NaN</td>\n",
       "      <td>NaN</td>\n",
       "      <td>NaN</td>\n",
       "      <td>NaN</td>\n",
       "      <td>NaN</td>\n",
       "      <td>NaN</td>\n",
       "      <td>NaN</td>\n",
       "      <td>NaN</td>\n",
       "      <td>NaN</td>\n",
       "      <td>...</td>\n",
       "      <td>NaN</td>\n",
       "      <td>NaN</td>\n",
       "      <td>NaN</td>\n",
       "      <td>NaN</td>\n",
       "      <td>NaN</td>\n",
       "      <td>NaN</td>\n",
       "      <td>NaN</td>\n",
       "      <td>NaN</td>\n",
       "      <td>NaN</td>\n",
       "      <td>NaN</td>\n",
       "    </tr>\n",
       "    <tr>\n",
       "      <th>2014-01-01 00:06:00</th>\n",
       "      <td>NaN</td>\n",
       "      <td>NaN</td>\n",
       "      <td>NaN</td>\n",
       "      <td>NaN</td>\n",
       "      <td>NaN</td>\n",
       "      <td>NaN</td>\n",
       "      <td>NaN</td>\n",
       "      <td>NaN</td>\n",
       "      <td>NaN</td>\n",
       "      <td>NaN</td>\n",
       "      <td>...</td>\n",
       "      <td>NaN</td>\n",
       "      <td>NaN</td>\n",
       "      <td>NaN</td>\n",
       "      <td>NaN</td>\n",
       "      <td>NaN</td>\n",
       "      <td>NaN</td>\n",
       "      <td>NaN</td>\n",
       "      <td>NaN</td>\n",
       "      <td>NaN</td>\n",
       "      <td>NaN</td>\n",
       "    </tr>\n",
       "    <tr>\n",
       "      <th>2014-01-01 00:08:00</th>\n",
       "      <td>NaN</td>\n",
       "      <td>NaN</td>\n",
       "      <td>NaN</td>\n",
       "      <td>NaN</td>\n",
       "      <td>NaN</td>\n",
       "      <td>NaN</td>\n",
       "      <td>NaN</td>\n",
       "      <td>NaN</td>\n",
       "      <td>NaN</td>\n",
       "      <td>NaN</td>\n",
       "      <td>...</td>\n",
       "      <td>NaN</td>\n",
       "      <td>NaN</td>\n",
       "      <td>NaN</td>\n",
       "      <td>NaN</td>\n",
       "      <td>NaN</td>\n",
       "      <td>NaN</td>\n",
       "      <td>NaN</td>\n",
       "      <td>NaN</td>\n",
       "      <td>NaN</td>\n",
       "      <td>NaN</td>\n",
       "    </tr>\n",
       "  </tbody>\n",
       "</table>\n",
       "<p>5 rows × 778 columns</p>\n",
       "</div>"
      ],
      "text/plain": [
       "                     Station_1_bikes_available  Station_2_bikes_available  \\\n",
       "time_period                                                                 \n",
       "2014-01-01 00:00:00                        NaN                        NaN   \n",
       "2014-01-01 00:02:00                        NaN                        NaN   \n",
       "2014-01-01 00:04:00                        NaN                        NaN   \n",
       "2014-01-01 00:06:00                        NaN                        NaN   \n",
       "2014-01-01 00:08:00                        NaN                        NaN   \n",
       "\n",
       "                     Station_3_bikes_available  Station_4_bikes_available  \\\n",
       "time_period                                                                 \n",
       "2014-01-01 00:00:00                        NaN                        NaN   \n",
       "2014-01-01 00:02:00                        NaN                        NaN   \n",
       "2014-01-01 00:04:00                        NaN                        NaN   \n",
       "2014-01-01 00:06:00                        NaN                        NaN   \n",
       "2014-01-01 00:08:00                        NaN                        NaN   \n",
       "\n",
       "                     Station_5_bikes_available  Station_6_bikes_available  \\\n",
       "time_period                                                                 \n",
       "2014-01-01 00:00:00                        NaN                        NaN   \n",
       "2014-01-01 00:02:00                        NaN                        NaN   \n",
       "2014-01-01 00:04:00                        NaN                        NaN   \n",
       "2014-01-01 00:06:00                        NaN                        NaN   \n",
       "2014-01-01 00:08:00                        NaN                        NaN   \n",
       "\n",
       "                     Station_7_bikes_available  Station_8_bikes_available  \\\n",
       "time_period                                                                 \n",
       "2014-01-01 00:00:00                        NaN                        NaN   \n",
       "2014-01-01 00:02:00                        NaN                        NaN   \n",
       "2014-01-01 00:04:00                        NaN                        NaN   \n",
       "2014-01-01 00:06:00                        NaN                        NaN   \n",
       "2014-01-01 00:08:00                        NaN                        NaN   \n",
       "\n",
       "                     Station_9_bikes_available  Station_10_bikes_available  \\\n",
       "time_period                                                                  \n",
       "2014-01-01 00:00:00                        NaN                         NaN   \n",
       "2014-01-01 00:02:00                        NaN                         NaN   \n",
       "2014-01-01 00:04:00                        NaN                         NaN   \n",
       "2014-01-01 00:06:00                        NaN                         NaN   \n",
       "2014-01-01 00:08:00                        NaN                         NaN   \n",
       "\n",
       "                                ...               Station_769_bikes_available  \\\n",
       "time_period                     ...                                             \n",
       "2014-01-01 00:00:00             ...                                       NaN   \n",
       "2014-01-01 00:02:00             ...                                       NaN   \n",
       "2014-01-01 00:04:00             ...                                       NaN   \n",
       "2014-01-01 00:06:00             ...                                       NaN   \n",
       "2014-01-01 00:08:00             ...                                       NaN   \n",
       "\n",
       "                     Station_770_bikes_available  Station_771_bikes_available  \\\n",
       "time_period                                                                     \n",
       "2014-01-01 00:00:00                          NaN                          NaN   \n",
       "2014-01-01 00:02:00                          NaN                          NaN   \n",
       "2014-01-01 00:04:00                          NaN                          NaN   \n",
       "2014-01-01 00:06:00                          NaN                          NaN   \n",
       "2014-01-01 00:08:00                          NaN                          NaN   \n",
       "\n",
       "                     Station_772_bikes_available  Station_773_bikes_available  \\\n",
       "time_period                                                                     \n",
       "2014-01-01 00:00:00                          NaN                          NaN   \n",
       "2014-01-01 00:02:00                          NaN                          NaN   \n",
       "2014-01-01 00:04:00                          NaN                          NaN   \n",
       "2014-01-01 00:06:00                          NaN                          NaN   \n",
       "2014-01-01 00:08:00                          NaN                          NaN   \n",
       "\n",
       "                     Station_774_bikes_available  Station_775_bikes_available  \\\n",
       "time_period                                                                     \n",
       "2014-01-01 00:00:00                          NaN                          NaN   \n",
       "2014-01-01 00:02:00                          NaN                          NaN   \n",
       "2014-01-01 00:04:00                          NaN                          NaN   \n",
       "2014-01-01 00:06:00                          NaN                          NaN   \n",
       "2014-01-01 00:08:00                          NaN                          NaN   \n",
       "\n",
       "                     Station_776_bikes_available  Station_777_bikes_available  \\\n",
       "time_period                                                                     \n",
       "2014-01-01 00:00:00                          NaN                          NaN   \n",
       "2014-01-01 00:02:00                          NaN                          NaN   \n",
       "2014-01-01 00:04:00                          NaN                          NaN   \n",
       "2014-01-01 00:06:00                          NaN                          NaN   \n",
       "2014-01-01 00:08:00                          NaN                          NaN   \n",
       "\n",
       "                     Station_778_bikes_available  \n",
       "time_period                                       \n",
       "2014-01-01 00:00:00                          NaN  \n",
       "2014-01-01 00:02:00                          NaN  \n",
       "2014-01-01 00:04:00                          NaN  \n",
       "2014-01-01 00:06:00                          NaN  \n",
       "2014-01-01 00:08:00                          NaN  \n",
       "\n",
       "[5 rows x 778 columns]"
      ]
     },
     "execution_count": 6,
     "metadata": {},
     "output_type": "execute_result"
    }
   ],
   "source": [
    "df_bikes = create_time_index(df_bikes)\n",
    "df_bikes.head()"
   ]
  },
  {
   "cell_type": "code",
   "execution_count": 7,
   "metadata": {},
   "outputs": [
    {
     "data": {
      "text/html": [
       "<div>\n",
       "<style scoped>\n",
       "    .dataframe tbody tr th:only-of-type {\n",
       "        vertical-align: middle;\n",
       "    }\n",
       "\n",
       "    .dataframe tbody tr th {\n",
       "        vertical-align: top;\n",
       "    }\n",
       "\n",
       "    .dataframe thead th {\n",
       "        text-align: right;\n",
       "    }\n",
       "</style>\n",
       "<table border=\"1\" class=\"dataframe\">\n",
       "  <thead>\n",
       "    <tr style=\"text-align: right;\">\n",
       "      <th></th>\n",
       "      <th>Station_1_spaces_available</th>\n",
       "      <th>Station_2_spaces_available</th>\n",
       "      <th>Station_3_spaces_available</th>\n",
       "      <th>Station_4_spaces_available</th>\n",
       "      <th>Station_5_spaces_available</th>\n",
       "      <th>Station_6_spaces_available</th>\n",
       "      <th>Station_7_spaces_available</th>\n",
       "      <th>Station_8_spaces_available</th>\n",
       "      <th>Station_9_spaces_available</th>\n",
       "      <th>Station_10_spaces_available</th>\n",
       "      <th>...</th>\n",
       "      <th>Station_769_spaces_available</th>\n",
       "      <th>Station_770_spaces_available</th>\n",
       "      <th>Station_771_spaces_available</th>\n",
       "      <th>Station_772_spaces_available</th>\n",
       "      <th>Station_773_spaces_available</th>\n",
       "      <th>Station_774_spaces_available</th>\n",
       "      <th>Station_775_spaces_available</th>\n",
       "      <th>Station_776_spaces_available</th>\n",
       "      <th>Station_777_spaces_available</th>\n",
       "      <th>Station_778_spaces_available</th>\n",
       "    </tr>\n",
       "    <tr>\n",
       "      <th>time_period</th>\n",
       "      <th></th>\n",
       "      <th></th>\n",
       "      <th></th>\n",
       "      <th></th>\n",
       "      <th></th>\n",
       "      <th></th>\n",
       "      <th></th>\n",
       "      <th></th>\n",
       "      <th></th>\n",
       "      <th></th>\n",
       "      <th></th>\n",
       "      <th></th>\n",
       "      <th></th>\n",
       "      <th></th>\n",
       "      <th></th>\n",
       "      <th></th>\n",
       "      <th></th>\n",
       "      <th></th>\n",
       "      <th></th>\n",
       "      <th></th>\n",
       "      <th></th>\n",
       "    </tr>\n",
       "  </thead>\n",
       "  <tbody>\n",
       "    <tr>\n",
       "      <th>2014-01-01 00:00:00</th>\n",
       "      <td>NaN</td>\n",
       "      <td>NaN</td>\n",
       "      <td>NaN</td>\n",
       "      <td>NaN</td>\n",
       "      <td>NaN</td>\n",
       "      <td>NaN</td>\n",
       "      <td>NaN</td>\n",
       "      <td>NaN</td>\n",
       "      <td>NaN</td>\n",
       "      <td>NaN</td>\n",
       "      <td>...</td>\n",
       "      <td>NaN</td>\n",
       "      <td>NaN</td>\n",
       "      <td>NaN</td>\n",
       "      <td>NaN</td>\n",
       "      <td>NaN</td>\n",
       "      <td>NaN</td>\n",
       "      <td>NaN</td>\n",
       "      <td>NaN</td>\n",
       "      <td>NaN</td>\n",
       "      <td>NaN</td>\n",
       "    </tr>\n",
       "    <tr>\n",
       "      <th>2014-01-01 00:02:00</th>\n",
       "      <td>NaN</td>\n",
       "      <td>NaN</td>\n",
       "      <td>NaN</td>\n",
       "      <td>NaN</td>\n",
       "      <td>NaN</td>\n",
       "      <td>NaN</td>\n",
       "      <td>NaN</td>\n",
       "      <td>NaN</td>\n",
       "      <td>NaN</td>\n",
       "      <td>NaN</td>\n",
       "      <td>...</td>\n",
       "      <td>NaN</td>\n",
       "      <td>NaN</td>\n",
       "      <td>NaN</td>\n",
       "      <td>NaN</td>\n",
       "      <td>NaN</td>\n",
       "      <td>NaN</td>\n",
       "      <td>NaN</td>\n",
       "      <td>NaN</td>\n",
       "      <td>NaN</td>\n",
       "      <td>NaN</td>\n",
       "    </tr>\n",
       "    <tr>\n",
       "      <th>2014-01-01 00:04:00</th>\n",
       "      <td>NaN</td>\n",
       "      <td>NaN</td>\n",
       "      <td>NaN</td>\n",
       "      <td>NaN</td>\n",
       "      <td>NaN</td>\n",
       "      <td>NaN</td>\n",
       "      <td>NaN</td>\n",
       "      <td>NaN</td>\n",
       "      <td>NaN</td>\n",
       "      <td>NaN</td>\n",
       "      <td>...</td>\n",
       "      <td>NaN</td>\n",
       "      <td>NaN</td>\n",
       "      <td>NaN</td>\n",
       "      <td>NaN</td>\n",
       "      <td>NaN</td>\n",
       "      <td>NaN</td>\n",
       "      <td>NaN</td>\n",
       "      <td>NaN</td>\n",
       "      <td>NaN</td>\n",
       "      <td>NaN</td>\n",
       "    </tr>\n",
       "    <tr>\n",
       "      <th>2014-01-01 00:06:00</th>\n",
       "      <td>NaN</td>\n",
       "      <td>NaN</td>\n",
       "      <td>NaN</td>\n",
       "      <td>NaN</td>\n",
       "      <td>NaN</td>\n",
       "      <td>NaN</td>\n",
       "      <td>NaN</td>\n",
       "      <td>NaN</td>\n",
       "      <td>NaN</td>\n",
       "      <td>NaN</td>\n",
       "      <td>...</td>\n",
       "      <td>NaN</td>\n",
       "      <td>NaN</td>\n",
       "      <td>NaN</td>\n",
       "      <td>NaN</td>\n",
       "      <td>NaN</td>\n",
       "      <td>NaN</td>\n",
       "      <td>NaN</td>\n",
       "      <td>NaN</td>\n",
       "      <td>NaN</td>\n",
       "      <td>NaN</td>\n",
       "    </tr>\n",
       "    <tr>\n",
       "      <th>2014-01-01 00:08:00</th>\n",
       "      <td>NaN</td>\n",
       "      <td>NaN</td>\n",
       "      <td>NaN</td>\n",
       "      <td>NaN</td>\n",
       "      <td>NaN</td>\n",
       "      <td>NaN</td>\n",
       "      <td>NaN</td>\n",
       "      <td>NaN</td>\n",
       "      <td>NaN</td>\n",
       "      <td>NaN</td>\n",
       "      <td>...</td>\n",
       "      <td>NaN</td>\n",
       "      <td>NaN</td>\n",
       "      <td>NaN</td>\n",
       "      <td>NaN</td>\n",
       "      <td>NaN</td>\n",
       "      <td>NaN</td>\n",
       "      <td>NaN</td>\n",
       "      <td>NaN</td>\n",
       "      <td>NaN</td>\n",
       "      <td>NaN</td>\n",
       "    </tr>\n",
       "  </tbody>\n",
       "</table>\n",
       "<p>5 rows × 778 columns</p>\n",
       "</div>"
      ],
      "text/plain": [
       "                     Station_1_spaces_available  Station_2_spaces_available  \\\n",
       "time_period                                                                   \n",
       "2014-01-01 00:00:00                         NaN                         NaN   \n",
       "2014-01-01 00:02:00                         NaN                         NaN   \n",
       "2014-01-01 00:04:00                         NaN                         NaN   \n",
       "2014-01-01 00:06:00                         NaN                         NaN   \n",
       "2014-01-01 00:08:00                         NaN                         NaN   \n",
       "\n",
       "                     Station_3_spaces_available  Station_4_spaces_available  \\\n",
       "time_period                                                                   \n",
       "2014-01-01 00:00:00                         NaN                         NaN   \n",
       "2014-01-01 00:02:00                         NaN                         NaN   \n",
       "2014-01-01 00:04:00                         NaN                         NaN   \n",
       "2014-01-01 00:06:00                         NaN                         NaN   \n",
       "2014-01-01 00:08:00                         NaN                         NaN   \n",
       "\n",
       "                     Station_5_spaces_available  Station_6_spaces_available  \\\n",
       "time_period                                                                   \n",
       "2014-01-01 00:00:00                         NaN                         NaN   \n",
       "2014-01-01 00:02:00                         NaN                         NaN   \n",
       "2014-01-01 00:04:00                         NaN                         NaN   \n",
       "2014-01-01 00:06:00                         NaN                         NaN   \n",
       "2014-01-01 00:08:00                         NaN                         NaN   \n",
       "\n",
       "                     Station_7_spaces_available  Station_8_spaces_available  \\\n",
       "time_period                                                                   \n",
       "2014-01-01 00:00:00                         NaN                         NaN   \n",
       "2014-01-01 00:02:00                         NaN                         NaN   \n",
       "2014-01-01 00:04:00                         NaN                         NaN   \n",
       "2014-01-01 00:06:00                         NaN                         NaN   \n",
       "2014-01-01 00:08:00                         NaN                         NaN   \n",
       "\n",
       "                     Station_9_spaces_available  Station_10_spaces_available  \\\n",
       "time_period                                                                    \n",
       "2014-01-01 00:00:00                         NaN                          NaN   \n",
       "2014-01-01 00:02:00                         NaN                          NaN   \n",
       "2014-01-01 00:04:00                         NaN                          NaN   \n",
       "2014-01-01 00:06:00                         NaN                          NaN   \n",
       "2014-01-01 00:08:00                         NaN                          NaN   \n",
       "\n",
       "                                 ...               \\\n",
       "time_period                      ...                \n",
       "2014-01-01 00:00:00              ...                \n",
       "2014-01-01 00:02:00              ...                \n",
       "2014-01-01 00:04:00              ...                \n",
       "2014-01-01 00:06:00              ...                \n",
       "2014-01-01 00:08:00              ...                \n",
       "\n",
       "                     Station_769_spaces_available  \\\n",
       "time_period                                         \n",
       "2014-01-01 00:00:00                           NaN   \n",
       "2014-01-01 00:02:00                           NaN   \n",
       "2014-01-01 00:04:00                           NaN   \n",
       "2014-01-01 00:06:00                           NaN   \n",
       "2014-01-01 00:08:00                           NaN   \n",
       "\n",
       "                     Station_770_spaces_available  \\\n",
       "time_period                                         \n",
       "2014-01-01 00:00:00                           NaN   \n",
       "2014-01-01 00:02:00                           NaN   \n",
       "2014-01-01 00:04:00                           NaN   \n",
       "2014-01-01 00:06:00                           NaN   \n",
       "2014-01-01 00:08:00                           NaN   \n",
       "\n",
       "                     Station_771_spaces_available  \\\n",
       "time_period                                         \n",
       "2014-01-01 00:00:00                           NaN   \n",
       "2014-01-01 00:02:00                           NaN   \n",
       "2014-01-01 00:04:00                           NaN   \n",
       "2014-01-01 00:06:00                           NaN   \n",
       "2014-01-01 00:08:00                           NaN   \n",
       "\n",
       "                     Station_772_spaces_available  \\\n",
       "time_period                                         \n",
       "2014-01-01 00:00:00                           NaN   \n",
       "2014-01-01 00:02:00                           NaN   \n",
       "2014-01-01 00:04:00                           NaN   \n",
       "2014-01-01 00:06:00                           NaN   \n",
       "2014-01-01 00:08:00                           NaN   \n",
       "\n",
       "                     Station_773_spaces_available  \\\n",
       "time_period                                         \n",
       "2014-01-01 00:00:00                           NaN   \n",
       "2014-01-01 00:02:00                           NaN   \n",
       "2014-01-01 00:04:00                           NaN   \n",
       "2014-01-01 00:06:00                           NaN   \n",
       "2014-01-01 00:08:00                           NaN   \n",
       "\n",
       "                     Station_774_spaces_available  \\\n",
       "time_period                                         \n",
       "2014-01-01 00:00:00                           NaN   \n",
       "2014-01-01 00:02:00                           NaN   \n",
       "2014-01-01 00:04:00                           NaN   \n",
       "2014-01-01 00:06:00                           NaN   \n",
       "2014-01-01 00:08:00                           NaN   \n",
       "\n",
       "                     Station_775_spaces_available  \\\n",
       "time_period                                         \n",
       "2014-01-01 00:00:00                           NaN   \n",
       "2014-01-01 00:02:00                           NaN   \n",
       "2014-01-01 00:04:00                           NaN   \n",
       "2014-01-01 00:06:00                           NaN   \n",
       "2014-01-01 00:08:00                           NaN   \n",
       "\n",
       "                     Station_776_spaces_available  \\\n",
       "time_period                                         \n",
       "2014-01-01 00:00:00                           NaN   \n",
       "2014-01-01 00:02:00                           NaN   \n",
       "2014-01-01 00:04:00                           NaN   \n",
       "2014-01-01 00:06:00                           NaN   \n",
       "2014-01-01 00:08:00                           NaN   \n",
       "\n",
       "                     Station_777_spaces_available  \\\n",
       "time_period                                         \n",
       "2014-01-01 00:00:00                           NaN   \n",
       "2014-01-01 00:02:00                           NaN   \n",
       "2014-01-01 00:04:00                           NaN   \n",
       "2014-01-01 00:06:00                           NaN   \n",
       "2014-01-01 00:08:00                           NaN   \n",
       "\n",
       "                     Station_778_spaces_available  \n",
       "time_period                                        \n",
       "2014-01-01 00:00:00                           NaN  \n",
       "2014-01-01 00:02:00                           NaN  \n",
       "2014-01-01 00:04:00                           NaN  \n",
       "2014-01-01 00:06:00                           NaN  \n",
       "2014-01-01 00:08:00                           NaN  \n",
       "\n",
       "[5 rows x 778 columns]"
      ]
     },
     "execution_count": 7,
     "metadata": {},
     "output_type": "execute_result"
    }
   ],
   "source": [
    "df_docks = create_time_index(df_docks)\n",
    "df_docks.head()"
   ]
  },
  {
   "cell_type": "code",
   "execution_count": null,
   "metadata": {},
   "outputs": [],
   "source": []
  },
  {
   "cell_type": "markdown",
   "metadata": {},
   "source": [
    "#### Calculation\n",
    "Let\n",
    "\n",
    "$$A := \\text{Count}(\\text{timestamps}>= 5~\\text{bikes/docks available})$$\n",
    "\n",
    "and\n",
    "\n",
    "$$B := \\text{total time stamps of non-NA}.$$\n",
    "\n",
    "Then for all stations we find the availability measure\n",
    "\n",
    "$$\\text{availability_measure} = \\frac{A}{B}.$$"
   ]
  },
  {
   "cell_type": "code",
   "execution_count": 8,
   "metadata": {},
   "outputs": [],
   "source": [
    "def calc_A(df, rush_start, rush_end):\n",
    "    df_A = pd.DataFrame()\n",
    "    \n",
    "    stations = df.columns.tolist()\n",
    "    \n",
    "    df_filtered = df.between_time(rush_start, rush_end)\n",
    "    for s in stations:\n",
    "        df_tmp = df_filtered[[s]]\n",
    "        df_tmp = df_tmp[df_tmp[s] >= 5]\n",
    "        df_A[s] = [len(df_tmp)]\n",
    "        \n",
    "    return df_A"
   ]
  },
  {
   "cell_type": "code",
   "execution_count": 9,
   "metadata": {},
   "outputs": [],
   "source": [
    "def calc_B(df, rush_start, rush_end):\n",
    "    df_B = pd.DataFrame()\n",
    "    \n",
    "    stations = df.columns.tolist()\n",
    "    \n",
    "    df_filtered = df.between_time(rush_start, rush_end)\n",
    "    for s in tqdm_notebook(stations):\n",
    "        df_tmp = df_filtered[[s]]\n",
    "        df_tmp = df_tmp.dropna()\n",
    "        df_B[s] = [len(df_tmp)]\n",
    "        \n",
    "    return df_B"
   ]
  },
  {
   "cell_type": "code",
   "execution_count": 10,
   "metadata": {},
   "outputs": [],
   "source": [
    "def main(df, df_save_type):\n",
    "    tperiods = [('05:30:00', '09:30:59'), ('16:00:00', '19:59:59'),\n",
    "                ('05:00:00', '05:29:59'), ('04:30:00', '05:29:59'),\n",
    "                ('15:30:00', '15:59:59'), ('15:00:00', '15:59:59')]\n",
    "    \n",
    "    #bikes\n",
    "    for t in tperiods:\n",
    "        df_A, df_B = calc_A(df, t[0], t[1]), calc_B(df, t[0], t[1])\n",
    "        df_AB = df_A / df_B\n",
    "        \n",
    "        df_AB.columns = ['_'.join(c.split('_')[:2]) for c in df_AB.columns]\n",
    "\n",
    "        df_AB = df_AB.T\n",
    "        df_AB.columns = ['rush-hour_aggregate_avail']\n",
    "        df_AB.to_csv('../../data/Pu_data/availability/rush-hour_aggregated_availabilities/' + \\\n",
    "                     df_save_type + '_' + t[0].replace(':', '') + '_' + t[1].replace(':', '') + '.csv')"
   ]
  },
  {
   "cell_type": "code",
   "execution_count": null,
   "metadata": {},
   "outputs": [],
   "source": []
  },
  {
   "cell_type": "code",
   "execution_count": 11,
   "metadata": {},
   "outputs": [
    {
     "data": {
      "application/vnd.jupyter.widget-view+json": {
       "model_id": "e077c607e61f43939748a1b528c07a28",
       "version_major": 2,
       "version_minor": 0
      },
      "text/html": [
       "<p>Failed to display Jupyter Widget of type <code>HBox</code>.</p>\n",
       "<p>\n",
       "  If you're reading this message in the Jupyter Notebook or JupyterLab Notebook, it may mean\n",
       "  that the widgets JavaScript is still loading. If this message persists, it\n",
       "  likely means that the widgets JavaScript library is either not installed or\n",
       "  not enabled. See the <a href=\"https://ipywidgets.readthedocs.io/en/stable/user_install.html\">Jupyter\n",
       "  Widgets Documentation</a> for setup instructions.\n",
       "</p>\n",
       "<p>\n",
       "  If you're reading this message in another frontend (for example, a static\n",
       "  rendering on GitHub or <a href=\"https://nbviewer.jupyter.org/\">NBViewer</a>),\n",
       "  it may mean that your frontend doesn't currently support widgets.\n",
       "</p>\n"
      ],
      "text/plain": [
       "HBox(children=(IntProgress(value=0, max=778), HTML(value='')))"
      ]
     },
     "metadata": {},
     "output_type": "display_data"
    },
    {
     "name": "stdout",
     "output_type": "stream",
     "text": [
      "\n"
     ]
    },
    {
     "data": {
      "application/vnd.jupyter.widget-view+json": {
       "model_id": "eef443bef55747e6bbde3145cf9fdc80",
       "version_major": 2,
       "version_minor": 0
      },
      "text/html": [
       "<p>Failed to display Jupyter Widget of type <code>HBox</code>.</p>\n",
       "<p>\n",
       "  If you're reading this message in the Jupyter Notebook or JupyterLab Notebook, it may mean\n",
       "  that the widgets JavaScript is still loading. If this message persists, it\n",
       "  likely means that the widgets JavaScript library is either not installed or\n",
       "  not enabled. See the <a href=\"https://ipywidgets.readthedocs.io/en/stable/user_install.html\">Jupyter\n",
       "  Widgets Documentation</a> for setup instructions.\n",
       "</p>\n",
       "<p>\n",
       "  If you're reading this message in another frontend (for example, a static\n",
       "  rendering on GitHub or <a href=\"https://nbviewer.jupyter.org/\">NBViewer</a>),\n",
       "  it may mean that your frontend doesn't currently support widgets.\n",
       "</p>\n"
      ],
      "text/plain": [
       "HBox(children=(IntProgress(value=0, max=778), HTML(value='')))"
      ]
     },
     "metadata": {},
     "output_type": "display_data"
    },
    {
     "name": "stdout",
     "output_type": "stream",
     "text": [
      "\n"
     ]
    },
    {
     "data": {
      "application/vnd.jupyter.widget-view+json": {
       "model_id": "e22bdfec812f4409bb4417c746372c07",
       "version_major": 2,
       "version_minor": 0
      },
      "text/html": [
       "<p>Failed to display Jupyter Widget of type <code>HBox</code>.</p>\n",
       "<p>\n",
       "  If you're reading this message in the Jupyter Notebook or JupyterLab Notebook, it may mean\n",
       "  that the widgets JavaScript is still loading. If this message persists, it\n",
       "  likely means that the widgets JavaScript library is either not installed or\n",
       "  not enabled. See the <a href=\"https://ipywidgets.readthedocs.io/en/stable/user_install.html\">Jupyter\n",
       "  Widgets Documentation</a> for setup instructions.\n",
       "</p>\n",
       "<p>\n",
       "  If you're reading this message in another frontend (for example, a static\n",
       "  rendering on GitHub or <a href=\"https://nbviewer.jupyter.org/\">NBViewer</a>),\n",
       "  it may mean that your frontend doesn't currently support widgets.\n",
       "</p>\n"
      ],
      "text/plain": [
       "HBox(children=(IntProgress(value=0, max=778), HTML(value='')))"
      ]
     },
     "metadata": {},
     "output_type": "display_data"
    },
    {
     "name": "stdout",
     "output_type": "stream",
     "text": [
      "\n"
     ]
    },
    {
     "data": {
      "application/vnd.jupyter.widget-view+json": {
       "model_id": "9f392395cbb84d1aaf3f2f7b669cecb7",
       "version_major": 2,
       "version_minor": 0
      },
      "text/html": [
       "<p>Failed to display Jupyter Widget of type <code>HBox</code>.</p>\n",
       "<p>\n",
       "  If you're reading this message in the Jupyter Notebook or JupyterLab Notebook, it may mean\n",
       "  that the widgets JavaScript is still loading. If this message persists, it\n",
       "  likely means that the widgets JavaScript library is either not installed or\n",
       "  not enabled. See the <a href=\"https://ipywidgets.readthedocs.io/en/stable/user_install.html\">Jupyter\n",
       "  Widgets Documentation</a> for setup instructions.\n",
       "</p>\n",
       "<p>\n",
       "  If you're reading this message in another frontend (for example, a static\n",
       "  rendering on GitHub or <a href=\"https://nbviewer.jupyter.org/\">NBViewer</a>),\n",
       "  it may mean that your frontend doesn't currently support widgets.\n",
       "</p>\n"
      ],
      "text/plain": [
       "HBox(children=(IntProgress(value=0, max=778), HTML(value='')))"
      ]
     },
     "metadata": {},
     "output_type": "display_data"
    },
    {
     "name": "stdout",
     "output_type": "stream",
     "text": [
      "\n"
     ]
    },
    {
     "data": {
      "application/vnd.jupyter.widget-view+json": {
       "model_id": "61bf266c9a754266af440d0de1517166",
       "version_major": 2,
       "version_minor": 0
      },
      "text/html": [
       "<p>Failed to display Jupyter Widget of type <code>HBox</code>.</p>\n",
       "<p>\n",
       "  If you're reading this message in the Jupyter Notebook or JupyterLab Notebook, it may mean\n",
       "  that the widgets JavaScript is still loading. If this message persists, it\n",
       "  likely means that the widgets JavaScript library is either not installed or\n",
       "  not enabled. See the <a href=\"https://ipywidgets.readthedocs.io/en/stable/user_install.html\">Jupyter\n",
       "  Widgets Documentation</a> for setup instructions.\n",
       "</p>\n",
       "<p>\n",
       "  If you're reading this message in another frontend (for example, a static\n",
       "  rendering on GitHub or <a href=\"https://nbviewer.jupyter.org/\">NBViewer</a>),\n",
       "  it may mean that your frontend doesn't currently support widgets.\n",
       "</p>\n"
      ],
      "text/plain": [
       "HBox(children=(IntProgress(value=0, max=778), HTML(value='')))"
      ]
     },
     "metadata": {},
     "output_type": "display_data"
    },
    {
     "name": "stdout",
     "output_type": "stream",
     "text": [
      "\n"
     ]
    },
    {
     "data": {
      "application/vnd.jupyter.widget-view+json": {
       "model_id": "73186dc110134f2eaf117de8ecfa1b56",
       "version_major": 2,
       "version_minor": 0
      },
      "text/html": [
       "<p>Failed to display Jupyter Widget of type <code>HBox</code>.</p>\n",
       "<p>\n",
       "  If you're reading this message in the Jupyter Notebook or JupyterLab Notebook, it may mean\n",
       "  that the widgets JavaScript is still loading. If this message persists, it\n",
       "  likely means that the widgets JavaScript library is either not installed or\n",
       "  not enabled. See the <a href=\"https://ipywidgets.readthedocs.io/en/stable/user_install.html\">Jupyter\n",
       "  Widgets Documentation</a> for setup instructions.\n",
       "</p>\n",
       "<p>\n",
       "  If you're reading this message in another frontend (for example, a static\n",
       "  rendering on GitHub or <a href=\"https://nbviewer.jupyter.org/\">NBViewer</a>),\n",
       "  it may mean that your frontend doesn't currently support widgets.\n",
       "</p>\n"
      ],
      "text/plain": [
       "HBox(children=(IntProgress(value=0, max=778), HTML(value='')))"
      ]
     },
     "metadata": {},
     "output_type": "display_data"
    },
    {
     "name": "stdout",
     "output_type": "stream",
     "text": [
      "\n"
     ]
    }
   ],
   "source": [
    "main(df_bikes, 'bikes')"
   ]
  },
  {
   "cell_type": "code",
   "execution_count": 12,
   "metadata": {},
   "outputs": [
    {
     "data": {
      "application/vnd.jupyter.widget-view+json": {
       "model_id": "23c00504bd40494c9de04d3e07918dbd",
       "version_major": 2,
       "version_minor": 0
      },
      "text/html": [
       "<p>Failed to display Jupyter Widget of type <code>HBox</code>.</p>\n",
       "<p>\n",
       "  If you're reading this message in the Jupyter Notebook or JupyterLab Notebook, it may mean\n",
       "  that the widgets JavaScript is still loading. If this message persists, it\n",
       "  likely means that the widgets JavaScript library is either not installed or\n",
       "  not enabled. See the <a href=\"https://ipywidgets.readthedocs.io/en/stable/user_install.html\">Jupyter\n",
       "  Widgets Documentation</a> for setup instructions.\n",
       "</p>\n",
       "<p>\n",
       "  If you're reading this message in another frontend (for example, a static\n",
       "  rendering on GitHub or <a href=\"https://nbviewer.jupyter.org/\">NBViewer</a>),\n",
       "  it may mean that your frontend doesn't currently support widgets.\n",
       "</p>\n"
      ],
      "text/plain": [
       "HBox(children=(IntProgress(value=0, max=778), HTML(value='')))"
      ]
     },
     "metadata": {},
     "output_type": "display_data"
    },
    {
     "name": "stdout",
     "output_type": "stream",
     "text": [
      "\n"
     ]
    },
    {
     "data": {
      "application/vnd.jupyter.widget-view+json": {
       "model_id": "03dd3803a88843169795931615f0fa05",
       "version_major": 2,
       "version_minor": 0
      },
      "text/html": [
       "<p>Failed to display Jupyter Widget of type <code>HBox</code>.</p>\n",
       "<p>\n",
       "  If you're reading this message in the Jupyter Notebook or JupyterLab Notebook, it may mean\n",
       "  that the widgets JavaScript is still loading. If this message persists, it\n",
       "  likely means that the widgets JavaScript library is either not installed or\n",
       "  not enabled. See the <a href=\"https://ipywidgets.readthedocs.io/en/stable/user_install.html\">Jupyter\n",
       "  Widgets Documentation</a> for setup instructions.\n",
       "</p>\n",
       "<p>\n",
       "  If you're reading this message in another frontend (for example, a static\n",
       "  rendering on GitHub or <a href=\"https://nbviewer.jupyter.org/\">NBViewer</a>),\n",
       "  it may mean that your frontend doesn't currently support widgets.\n",
       "</p>\n"
      ],
      "text/plain": [
       "HBox(children=(IntProgress(value=0, max=778), HTML(value='')))"
      ]
     },
     "metadata": {},
     "output_type": "display_data"
    },
    {
     "name": "stdout",
     "output_type": "stream",
     "text": [
      "\n"
     ]
    },
    {
     "data": {
      "application/vnd.jupyter.widget-view+json": {
       "model_id": "038a77871c90439fbc927643bd534f16",
       "version_major": 2,
       "version_minor": 0
      },
      "text/html": [
       "<p>Failed to display Jupyter Widget of type <code>HBox</code>.</p>\n",
       "<p>\n",
       "  If you're reading this message in the Jupyter Notebook or JupyterLab Notebook, it may mean\n",
       "  that the widgets JavaScript is still loading. If this message persists, it\n",
       "  likely means that the widgets JavaScript library is either not installed or\n",
       "  not enabled. See the <a href=\"https://ipywidgets.readthedocs.io/en/stable/user_install.html\">Jupyter\n",
       "  Widgets Documentation</a> for setup instructions.\n",
       "</p>\n",
       "<p>\n",
       "  If you're reading this message in another frontend (for example, a static\n",
       "  rendering on GitHub or <a href=\"https://nbviewer.jupyter.org/\">NBViewer</a>),\n",
       "  it may mean that your frontend doesn't currently support widgets.\n",
       "</p>\n"
      ],
      "text/plain": [
       "HBox(children=(IntProgress(value=0, max=778), HTML(value='')))"
      ]
     },
     "metadata": {},
     "output_type": "display_data"
    },
    {
     "name": "stdout",
     "output_type": "stream",
     "text": [
      "\n"
     ]
    },
    {
     "data": {
      "application/vnd.jupyter.widget-view+json": {
       "model_id": "97bc40ba16a14da29b9d1ecf8b6cdd9c",
       "version_major": 2,
       "version_minor": 0
      },
      "text/html": [
       "<p>Failed to display Jupyter Widget of type <code>HBox</code>.</p>\n",
       "<p>\n",
       "  If you're reading this message in the Jupyter Notebook or JupyterLab Notebook, it may mean\n",
       "  that the widgets JavaScript is still loading. If this message persists, it\n",
       "  likely means that the widgets JavaScript library is either not installed or\n",
       "  not enabled. See the <a href=\"https://ipywidgets.readthedocs.io/en/stable/user_install.html\">Jupyter\n",
       "  Widgets Documentation</a> for setup instructions.\n",
       "</p>\n",
       "<p>\n",
       "  If you're reading this message in another frontend (for example, a static\n",
       "  rendering on GitHub or <a href=\"https://nbviewer.jupyter.org/\">NBViewer</a>),\n",
       "  it may mean that your frontend doesn't currently support widgets.\n",
       "</p>\n"
      ],
      "text/plain": [
       "HBox(children=(IntProgress(value=0, max=778), HTML(value='')))"
      ]
     },
     "metadata": {},
     "output_type": "display_data"
    },
    {
     "name": "stdout",
     "output_type": "stream",
     "text": [
      "\n"
     ]
    },
    {
     "data": {
      "application/vnd.jupyter.widget-view+json": {
       "model_id": "66a2d8ada488423fba28d7b0ae859eb1",
       "version_major": 2,
       "version_minor": 0
      },
      "text/html": [
       "<p>Failed to display Jupyter Widget of type <code>HBox</code>.</p>\n",
       "<p>\n",
       "  If you're reading this message in the Jupyter Notebook or JupyterLab Notebook, it may mean\n",
       "  that the widgets JavaScript is still loading. If this message persists, it\n",
       "  likely means that the widgets JavaScript library is either not installed or\n",
       "  not enabled. See the <a href=\"https://ipywidgets.readthedocs.io/en/stable/user_install.html\">Jupyter\n",
       "  Widgets Documentation</a> for setup instructions.\n",
       "</p>\n",
       "<p>\n",
       "  If you're reading this message in another frontend (for example, a static\n",
       "  rendering on GitHub or <a href=\"https://nbviewer.jupyter.org/\">NBViewer</a>),\n",
       "  it may mean that your frontend doesn't currently support widgets.\n",
       "</p>\n"
      ],
      "text/plain": [
       "HBox(children=(IntProgress(value=0, max=778), HTML(value='')))"
      ]
     },
     "metadata": {},
     "output_type": "display_data"
    },
    {
     "name": "stdout",
     "output_type": "stream",
     "text": [
      "\n"
     ]
    },
    {
     "data": {
      "application/vnd.jupyter.widget-view+json": {
       "model_id": "c5dc8a94554144629ec156452838bf3f",
       "version_major": 2,
       "version_minor": 0
      },
      "text/html": [
       "<p>Failed to display Jupyter Widget of type <code>HBox</code>.</p>\n",
       "<p>\n",
       "  If you're reading this message in the Jupyter Notebook or JupyterLab Notebook, it may mean\n",
       "  that the widgets JavaScript is still loading. If this message persists, it\n",
       "  likely means that the widgets JavaScript library is either not installed or\n",
       "  not enabled. See the <a href=\"https://ipywidgets.readthedocs.io/en/stable/user_install.html\">Jupyter\n",
       "  Widgets Documentation</a> for setup instructions.\n",
       "</p>\n",
       "<p>\n",
       "  If you're reading this message in another frontend (for example, a static\n",
       "  rendering on GitHub or <a href=\"https://nbviewer.jupyter.org/\">NBViewer</a>),\n",
       "  it may mean that your frontend doesn't currently support widgets.\n",
       "</p>\n"
      ],
      "text/plain": [
       "HBox(children=(IntProgress(value=0, max=778), HTML(value='')))"
      ]
     },
     "metadata": {},
     "output_type": "display_data"
    },
    {
     "name": "stdout",
     "output_type": "stream",
     "text": [
      "\n"
     ]
    }
   ],
   "source": [
    "main(df_docks, 'docks')"
   ]
  },
  {
   "cell_type": "code",
   "execution_count": null,
   "metadata": {},
   "outputs": [],
   "source": []
  },
  {
   "cell_type": "markdown",
   "metadata": {},
   "source": [
    "## Map to Cluster Level\n",
    "> Just the average of the measure for all stations within a cluster.\n"
   ]
  },
  {
   "cell_type": "code",
   "execution_count": 13,
   "metadata": {},
   "outputs": [],
   "source": [
    "def cluster_averages(df_cluster_mappings, df_timeperiod, cluster):\n",
    "    df_stations = df_cluster_mappings[df_cluster_mappings.cluster_ID == cluster]\n",
    "    df_stations['index_name'] = ['Station_' + str(s) for s in df_stations.station_id.values]\n",
    "    df_stations.set_index('index_name', inplace=True)\n",
    "    \n",
    "    df_combine = df_stations.join(df_timeperiod, how='left')\n",
    "    \n",
    "    return df_combine"
   ]
  },
  {
   "cell_type": "code",
   "execution_count": 14,
   "metadata": {},
   "outputs": [],
   "source": [
    "def cluster_averages_helper(df_cluster_mappings, time_period):\n",
    "    df_bikes = pd.read_csv('../../data/Pu_data/availability/rush-hour_aggregated_availabilities/bikes_' + \\\n",
    "                          time_period[0].replace(':', '') + '_' + time_period[1].replace(':', '') + '.csv', index_col=0)\n",
    "    df_docks = pd.read_csv('../../data/Pu_data/availability/rush-hour_aggregated_availabilities/docks_' + \\\n",
    "                          time_period[0].replace(':', '') + '_' + time_period[1].replace(':', '') + '.csv', index_col=0)\n",
    "    \n",
    "    df_cluster_bike_avgs = pd.DataFrame()\n",
    "    df_cluster_dock_avgs = pd.DataFrame()\n",
    "    \n",
    "    clusters = list(set(df_cluster_mappings.cluster_ID.values.tolist()))\n",
    "\n",
    "    for c in tqdm_notebook(clusters):\n",
    "        df_bike_combine = cluster_averages(df_cluster_mappings, df_bikes, c)\n",
    "        df_dock_combine = cluster_averages(df_cluster_mappings, df_docks, c)\n",
    "    \n",
    "        df_cluster_bike_avgs[c] = [df_bike_combine['rush-hour_aggregate_avail'].mean()]\n",
    "        df_cluster_dock_avgs[c] = [df_dock_combine['rush-hour_aggregate_avail'].mean()]\n",
    "        \n",
    "    df_cluster_bike_avgs.columns = ['Cluster_' + str(col) for col in df_cluster_bike_avgs.columns.tolist()]\n",
    "    df_cluster_dock_avgs.columns = ['Cluster_' + str(col) for col in df_cluster_dock_avgs.columns.tolist()]\n",
    "    \n",
    "    df_cluster_bike_avgs = df_cluster_bike_avgs.T\n",
    "    df_cluster_dock_avgs = df_cluster_dock_avgs.T\n",
    "    \n",
    "    df_cluster_bike_avgs.columns = ['bikes_aggregate_avail']\n",
    "    df_cluster_dock_avgs.columns = ['docks_aggregate_avail']\n",
    "    \n",
    "    \n",
    "    df_final = df_cluster_bike_avgs.join(df_cluster_dock_avgs, how='left')\n",
    "    \n",
    "    df_final.to_csv('../../data/Pu_data/availability/aggregate_to_cluster_level/' + \\\n",
    "                    time_period[0].replace(':', '') + '_' + time_period[1].replace(':', '') + '.csv')"
   ]
  },
  {
   "cell_type": "code",
   "execution_count": null,
   "metadata": {},
   "outputs": [],
   "source": []
  },
  {
   "cell_type": "code",
   "execution_count": 15,
   "metadata": {},
   "outputs": [],
   "source": [
    "df_cluster_mappings = pd.read_csv('../../data/Pu_data/station_cluster_mapping.csv')"
   ]
  },
  {
   "cell_type": "code",
   "execution_count": 16,
   "metadata": {},
   "outputs": [],
   "source": [
    "tperiods = [('05:30:00', '09:30:59'), ('16:00:00', '19:59:59'),\n",
    "                ('05:00:00', '05:29:59'), ('04:30:00', '05:29:59'),\n",
    "                ('15:30:00', '15:59:59'), ('15:00:00', '15:59:59')]"
   ]
  },
  {
   "cell_type": "code",
   "execution_count": 17,
   "metadata": {},
   "outputs": [
    {
     "data": {
      "application/vnd.jupyter.widget-view+json": {
       "model_id": "52956374121a4ddc951f09890c332ad1",
       "version_major": 2,
       "version_minor": 0
      },
      "text/html": [
       "<p>Failed to display Jupyter Widget of type <code>HBox</code>.</p>\n",
       "<p>\n",
       "  If you're reading this message in the Jupyter Notebook or JupyterLab Notebook, it may mean\n",
       "  that the widgets JavaScript is still loading. If this message persists, it\n",
       "  likely means that the widgets JavaScript library is either not installed or\n",
       "  not enabled. See the <a href=\"https://ipywidgets.readthedocs.io/en/stable/user_install.html\">Jupyter\n",
       "  Widgets Documentation</a> for setup instructions.\n",
       "</p>\n",
       "<p>\n",
       "  If you're reading this message in another frontend (for example, a static\n",
       "  rendering on GitHub or <a href=\"https://nbviewer.jupyter.org/\">NBViewer</a>),\n",
       "  it may mean that your frontend doesn't currently support widgets.\n",
       "</p>\n"
      ],
      "text/plain": [
       "HBox(children=(IntProgress(value=0, max=112), HTML(value='')))"
      ]
     },
     "metadata": {},
     "output_type": "display_data"
    },
    {
     "name": "stderr",
     "output_type": "stream",
     "text": [
      "/usr/local/Cellar/python3/3.5.2_1/Frameworks/Python.framework/Versions/3.5/lib/python3.5/site-packages/ipykernel_launcher.py:3: SettingWithCopyWarning: \n",
      "A value is trying to be set on a copy of a slice from a DataFrame.\n",
      "Try using .loc[row_indexer,col_indexer] = value instead\n",
      "\n",
      "See the caveats in the documentation: http://pandas.pydata.org/pandas-docs/stable/indexing.html#indexing-view-versus-copy\n",
      "  This is separate from the ipykernel package so we can avoid doing imports until\n"
     ]
    },
    {
     "name": "stdout",
     "output_type": "stream",
     "text": [
      "\n"
     ]
    },
    {
     "data": {
      "application/vnd.jupyter.widget-view+json": {
       "model_id": "edcc0074f9e046b69de3fced4d6b0e09",
       "version_major": 2,
       "version_minor": 0
      },
      "text/html": [
       "<p>Failed to display Jupyter Widget of type <code>HBox</code>.</p>\n",
       "<p>\n",
       "  If you're reading this message in the Jupyter Notebook or JupyterLab Notebook, it may mean\n",
       "  that the widgets JavaScript is still loading. If this message persists, it\n",
       "  likely means that the widgets JavaScript library is either not installed or\n",
       "  not enabled. See the <a href=\"https://ipywidgets.readthedocs.io/en/stable/user_install.html\">Jupyter\n",
       "  Widgets Documentation</a> for setup instructions.\n",
       "</p>\n",
       "<p>\n",
       "  If you're reading this message in another frontend (for example, a static\n",
       "  rendering on GitHub or <a href=\"https://nbviewer.jupyter.org/\">NBViewer</a>),\n",
       "  it may mean that your frontend doesn't currently support widgets.\n",
       "</p>\n"
      ],
      "text/plain": [
       "HBox(children=(IntProgress(value=0, max=112), HTML(value='')))"
      ]
     },
     "metadata": {},
     "output_type": "display_data"
    },
    {
     "name": "stdout",
     "output_type": "stream",
     "text": [
      "\n"
     ]
    },
    {
     "data": {
      "application/vnd.jupyter.widget-view+json": {
       "model_id": "ce752a0d5cb042fab45d4273449be471",
       "version_major": 2,
       "version_minor": 0
      },
      "text/html": [
       "<p>Failed to display Jupyter Widget of type <code>HBox</code>.</p>\n",
       "<p>\n",
       "  If you're reading this message in the Jupyter Notebook or JupyterLab Notebook, it may mean\n",
       "  that the widgets JavaScript is still loading. If this message persists, it\n",
       "  likely means that the widgets JavaScript library is either not installed or\n",
       "  not enabled. See the <a href=\"https://ipywidgets.readthedocs.io/en/stable/user_install.html\">Jupyter\n",
       "  Widgets Documentation</a> for setup instructions.\n",
       "</p>\n",
       "<p>\n",
       "  If you're reading this message in another frontend (for example, a static\n",
       "  rendering on GitHub or <a href=\"https://nbviewer.jupyter.org/\">NBViewer</a>),\n",
       "  it may mean that your frontend doesn't currently support widgets.\n",
       "</p>\n"
      ],
      "text/plain": [
       "HBox(children=(IntProgress(value=0, max=112), HTML(value='')))"
      ]
     },
     "metadata": {},
     "output_type": "display_data"
    },
    {
     "name": "stdout",
     "output_type": "stream",
     "text": [
      "\n"
     ]
    },
    {
     "data": {
      "application/vnd.jupyter.widget-view+json": {
       "model_id": "15e5d1e3e9484b7989bb6902477af95c",
       "version_major": 2,
       "version_minor": 0
      },
      "text/html": [
       "<p>Failed to display Jupyter Widget of type <code>HBox</code>.</p>\n",
       "<p>\n",
       "  If you're reading this message in the Jupyter Notebook or JupyterLab Notebook, it may mean\n",
       "  that the widgets JavaScript is still loading. If this message persists, it\n",
       "  likely means that the widgets JavaScript library is either not installed or\n",
       "  not enabled. See the <a href=\"https://ipywidgets.readthedocs.io/en/stable/user_install.html\">Jupyter\n",
       "  Widgets Documentation</a> for setup instructions.\n",
       "</p>\n",
       "<p>\n",
       "  If you're reading this message in another frontend (for example, a static\n",
       "  rendering on GitHub or <a href=\"https://nbviewer.jupyter.org/\">NBViewer</a>),\n",
       "  it may mean that your frontend doesn't currently support widgets.\n",
       "</p>\n"
      ],
      "text/plain": [
       "HBox(children=(IntProgress(value=0, max=112), HTML(value='')))"
      ]
     },
     "metadata": {},
     "output_type": "display_data"
    },
    {
     "name": "stdout",
     "output_type": "stream",
     "text": [
      "\n"
     ]
    },
    {
     "data": {
      "application/vnd.jupyter.widget-view+json": {
       "model_id": "c1c8e5b773a3445a9b60eaf5fd958de5",
       "version_major": 2,
       "version_minor": 0
      },
      "text/html": [
       "<p>Failed to display Jupyter Widget of type <code>HBox</code>.</p>\n",
       "<p>\n",
       "  If you're reading this message in the Jupyter Notebook or JupyterLab Notebook, it may mean\n",
       "  that the widgets JavaScript is still loading. If this message persists, it\n",
       "  likely means that the widgets JavaScript library is either not installed or\n",
       "  not enabled. See the <a href=\"https://ipywidgets.readthedocs.io/en/stable/user_install.html\">Jupyter\n",
       "  Widgets Documentation</a> for setup instructions.\n",
       "</p>\n",
       "<p>\n",
       "  If you're reading this message in another frontend (for example, a static\n",
       "  rendering on GitHub or <a href=\"https://nbviewer.jupyter.org/\">NBViewer</a>),\n",
       "  it may mean that your frontend doesn't currently support widgets.\n",
       "</p>\n"
      ],
      "text/plain": [
       "HBox(children=(IntProgress(value=0, max=112), HTML(value='')))"
      ]
     },
     "metadata": {},
     "output_type": "display_data"
    },
    {
     "name": "stdout",
     "output_type": "stream",
     "text": [
      "\n"
     ]
    },
    {
     "data": {
      "application/vnd.jupyter.widget-view+json": {
       "model_id": "6aacfafa12be48e886ae5b82767706fa",
       "version_major": 2,
       "version_minor": 0
      },
      "text/html": [
       "<p>Failed to display Jupyter Widget of type <code>HBox</code>.</p>\n",
       "<p>\n",
       "  If you're reading this message in the Jupyter Notebook or JupyterLab Notebook, it may mean\n",
       "  that the widgets JavaScript is still loading. If this message persists, it\n",
       "  likely means that the widgets JavaScript library is either not installed or\n",
       "  not enabled. See the <a href=\"https://ipywidgets.readthedocs.io/en/stable/user_install.html\">Jupyter\n",
       "  Widgets Documentation</a> for setup instructions.\n",
       "</p>\n",
       "<p>\n",
       "  If you're reading this message in another frontend (for example, a static\n",
       "  rendering on GitHub or <a href=\"https://nbviewer.jupyter.org/\">NBViewer</a>),\n",
       "  it may mean that your frontend doesn't currently support widgets.\n",
       "</p>\n"
      ],
      "text/plain": [
       "HBox(children=(IntProgress(value=0, max=112), HTML(value='')))"
      ]
     },
     "metadata": {},
     "output_type": "display_data"
    },
    {
     "name": "stdout",
     "output_type": "stream",
     "text": [
      "\n"
     ]
    }
   ],
   "source": [
    "for tp in tperiods:\n",
    "    cluster_averages_helper(df_cluster_mappings, tp)"
   ]
  },
  {
   "cell_type": "code",
   "execution_count": null,
   "metadata": {},
   "outputs": [],
   "source": []
  }
 ],
 "metadata": {
  "kernelspec": {
   "display_name": "Python 3",
   "language": "python",
   "name": "python3"
  },
  "language_info": {
   "codemirror_mode": {
    "name": "ipython",
    "version": 3
   },
   "file_extension": ".py",
   "mimetype": "text/x-python",
   "name": "python",
   "nbconvert_exporter": "python",
   "pygments_lexer": "ipython3",
   "version": "3.5.2"
  }
 },
 "nbformat": 4,
 "nbformat_minor": 2
}
