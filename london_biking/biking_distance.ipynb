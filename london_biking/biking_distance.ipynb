{
 "cells": [
  {
   "cell_type": "code",
   "execution_count": 6,
   "metadata": {},
   "outputs": [],
   "source": [
    "%matplotlib inline\n",
    "%config Completer.use_jedi=False"
   ]
  },
  {
   "cell_type": "code",
   "execution_count": 7,
   "metadata": {},
   "outputs": [],
   "source": [
    "import datetime\n",
    "import glob\n",
    "\n",
    "import pandas as pd\n",
    "import numpy as np\n",
    "\n",
    "from tqdm import tqdm_notebook\n",
    "from collections import defaultdict"
   ]
  },
  {
   "cell_type": "code",
   "execution_count": null,
   "metadata": {},
   "outputs": [],
   "source": []
  },
  {
   "cell_type": "markdown",
   "metadata": {},
   "source": [
    "## Cluster Level Biking Distance\n",
    "Let $A = \\{s_{A,1}, \\dots, s_{A,N}\\}$ and $B = \\{s_{B,1}, \\dots, s_{B,M}\\}$ be two arbitrary clusters. Also, let $N,M,n \\in \\mathbb{N}$.Define\n",
    "\n",
    "$$ D(A,B) := \\text{Avg}(d_1, \\dots, d_n),~d_k \\mapsto \\text{Dist}(s_{A,i},~s_{B,j})~~~~~~~~~~~~~~~~~~(k \\in [1, \\dots, n],~i \\in N,~j \\in M)$$\n",
    "\n",
    "where $d_1, \\dots, d_n$ are **all possible** distances from stations in these clusters.\n",
    "\n",
    ">* **NOTE:** Routes where there were 0 recorded trips were excluded from the data collection. Thus, there are many routes where there will be NaN values. However, on a clusger level there \"shouldn't\" be any NaN's."
   ]
  },
  {
   "cell_type": "code",
   "execution_count": 29,
   "metadata": {},
   "outputs": [],
   "source": [
    "def D(A, B, cluster_stations):\n",
    "    all_A = cluster_stations[A]\n",
    "    all_B = cluster_stations[B]\n",
    "    \n",
    "    #print(all_A, all_B)\n",
    "    \n",
    "    all_dist = []\n",
    "    for aA in all_A:\n",
    "        for aB in all_B:\n",
    "            try:\n",
    "                df = pd.read_csv('../../data/routes/bicycling/bicycling_' + str(aA) + '-' + str(aB) + '.csv')\n",
    "            except Exception as e:\n",
    "                try:\n",
    "                    df = pd.read_csv('../../data/routes/bicycling/bicycling_' + str(aB) + '-' + str(aA) + '.csv')\n",
    "                except Exception as es:\n",
    "                    continue\n",
    "            \n",
    "            dist = df[['distance']].values.tolist()\n",
    "            \n",
    "            converted_dist = []\n",
    "            for d in dist:\n",
    "                if 'km' in d[0]:\n",
    "                    converted_dist.append(float(d[0].split()[0]) * 1000)\n",
    "                elif 'm' in d[0]:\n",
    "                    converted_dist.append(float(d[0].split()[0]))\n",
    "                else:\n",
    "                    raise Exception('Neither Meter or Kilometers label.')\n",
    "            \n",
    "            all_dist.append(sum(converted_dist))\n",
    "    \n",
    "    #returns NaN if there aren't any observations from these stations\n",
    "    return np.mean(all_dist)"
   ]
  },
  {
   "cell_type": "code",
   "execution_count": null,
   "metadata": {},
   "outputs": [],
   "source": []
  },
  {
   "cell_type": "markdown",
   "metadata": {},
   "source": [
    "#### Station -> Cluster mapping"
   ]
  },
  {
   "cell_type": "code",
   "execution_count": 30,
   "metadata": {},
   "outputs": [
    {
     "data": {
      "text/html": [
       "<div>\n",
       "<style scoped>\n",
       "    .dataframe tbody tr th:only-of-type {\n",
       "        vertical-align: middle;\n",
       "    }\n",
       "\n",
       "    .dataframe tbody tr th {\n",
       "        vertical-align: top;\n",
       "    }\n",
       "\n",
       "    .dataframe thead th {\n",
       "        text-align: right;\n",
       "    }\n",
       "</style>\n",
       "<table border=\"1\" class=\"dataframe\">\n",
       "  <thead>\n",
       "    <tr style=\"text-align: right;\">\n",
       "      <th></th>\n",
       "      <th>station_id</th>\n",
       "      <th>cluster_ID</th>\n",
       "    </tr>\n",
       "  </thead>\n",
       "  <tbody>\n",
       "    <tr>\n",
       "      <th>0</th>\n",
       "      <td>1</td>\n",
       "      <td>97</td>\n",
       "    </tr>\n",
       "    <tr>\n",
       "      <th>1</th>\n",
       "      <td>2</td>\n",
       "      <td>28</td>\n",
       "    </tr>\n",
       "    <tr>\n",
       "      <th>2</th>\n",
       "      <td>3</td>\n",
       "      <td>118</td>\n",
       "    </tr>\n",
       "    <tr>\n",
       "      <th>3</th>\n",
       "      <td>4</td>\n",
       "      <td>86</td>\n",
       "    </tr>\n",
       "    <tr>\n",
       "      <th>4</th>\n",
       "      <td>5</td>\n",
       "      <td>60</td>\n",
       "    </tr>\n",
       "  </tbody>\n",
       "</table>\n",
       "</div>"
      ],
      "text/plain": [
       "   station_id  cluster_ID\n",
       "0           1          97\n",
       "1           2          28\n",
       "2           3         118\n",
       "3           4          86\n",
       "4           5          60"
      ]
     },
     "execution_count": 30,
     "metadata": {},
     "output_type": "execute_result"
    }
   ],
   "source": [
    "stat_map_clus = pd.read_csv('../../data/Pu_data/station_cluster_mapping.csv')\n",
    "stat_map_clus.head()"
   ]
  },
  {
   "cell_type": "code",
   "execution_count": 31,
   "metadata": {},
   "outputs": [
    {
     "data": {
      "text/plain": [
       "array([ 97,  28, 118])"
      ]
     },
     "execution_count": 31,
     "metadata": {},
     "output_type": "execute_result"
    }
   ],
   "source": [
    "uniq_clusters = stat_map_clus.cluster_ID.unique()\n",
    "uniq_clusters[:3]"
   ]
  },
  {
   "cell_type": "code",
   "execution_count": 32,
   "metadata": {},
   "outputs": [],
   "source": [
    "cluster_stations = defaultdict(list)\n",
    "\n",
    "for uc in uniq_clusters:\n",
    "    tmp_df = stat_map_clus[stat_map_clus.cluster_ID == uc]\n",
    "    cluster_stations[uc] = tmp_df.station_id.values.tolist()"
   ]
  },
  {
   "cell_type": "code",
   "execution_count": 33,
   "metadata": {},
   "outputs": [
    {
     "data": {
      "text/plain": [
       "[607, 617, 656]"
      ]
     },
     "execution_count": 33,
     "metadata": {},
     "output_type": "execute_result"
    }
   ],
   "source": [
    "cluster_stations[24]"
   ]
  },
  {
   "cell_type": "code",
   "execution_count": 56,
   "metadata": {},
   "outputs": [
    {
     "data": {
      "text/plain": [
       "defaultdict(list,\n",
       "            {4: [682],\n",
       "             5: [598, 668, 730, 753],\n",
       "             6: [591],\n",
       "             7: [566, 601],\n",
       "             12: [678, 694, 705, 708, 709, 743],\n",
       "             13: [693],\n",
       "             14: [615, 681],\n",
       "             15: [599, 635, 644, 655, 686, 696, 707, 711, 761],\n",
       "             16: [293, 595, 608, 634, 687],\n",
       "             17: [515, 527, 571, 606, 647, 657, 667, 736],\n",
       "             18: [442, 555, 650, 652, 663, 740, 741, 742, 754],\n",
       "             23: [685, 688, 704, 728, 752, 767],\n",
       "             24: [607, 617, 656],\n",
       "             25: [596, 597, 616, 619, 671, 727, 729],\n",
       "             26: [626, 633, 639, 720],\n",
       "             27: [38, 142, 158, 274, 660, 666],\n",
       "             28: [2, 145, 168, 212, 398, 559, 611, 622],\n",
       "             29: [151, 225, 337, 379, 543, 560, 661],\n",
       "             30: [643, 758],\n",
       "             34: [621, 629, 665, 684, 724],\n",
       "             35: [628, 636, 648, 723],\n",
       "             36: [618, 691, 731, 737, 738, 745],\n",
       "             37: [573, 651, 739, 757],\n",
       "             38: [37, 97, 113, 128, 155, 171, 216, 219, 296, 332, 384, 405],\n",
       "             39: [36, 103, 133, 157, 266, 277, 375, 404],\n",
       "             40: [29, 105, 164, 224, 261, 307, 333, 397, 524, 568, 584],\n",
       "             41: [47, 165, 176, 592],\n",
       "             42: [255],\n",
       "             45: [623, 637, 689, 734],\n",
       "             46: [638, 642, 653, 659, 672, 673, 675, 735, 744, 764],\n",
       "             47: [679, 680, 700, 701, 746],\n",
       "             48: [345, 430, 529, 589, 610, 649, 662, 755],\n",
       "             49: [150, 163, 172, 187, 218, 220, 231, 356, 378, 432],\n",
       "             50: [248, 258, 300, 350, 373, 392, 428],\n",
       "             51: [153, 169, 265, 330],\n",
       "             52: [182, 186, 208, 238, 279, 290, 370, 394, 402, 408, 410, 759],\n",
       "             53: [8, 60, 110, 247, 286, 312, 363, 590],\n",
       "             54: [7],\n",
       "             57: [609, 627, 632, 683],\n",
       "             58: [620, 658, 664, 710, 750, 756],\n",
       "             59: [747],\n",
       "             60: [5, 137, 143, 209, 211, 250, 395, 423],\n",
       "             61: [166, 181, 191, 207, 222, 292, 303, 368],\n",
       "             62: [99, 111, 138, 180, 289, 304, 366, 389, 406],\n",
       "             63: [43,\n",
       "              45,\n",
       "              56,\n",
       "              114,\n",
       "              121,\n",
       "              188,\n",
       "              201,\n",
       "              210,\n",
       "              242,\n",
       "              257,\n",
       "              367,\n",
       "              396,\n",
       "              400,\n",
       "              403,\n",
       "              514],\n",
       "             64: [315, 760],\n",
       "             65: [271, 329, 343],\n",
       "             68: [612, 670, 677, 690],\n",
       "             69: [614, 625, 631, 640, 725, 726],\n",
       "             70: [185, 245, 291, 419],\n",
       "             71: [124, 148, 161, 167, 177, 178, 243, 268, 288, 320, 360, 424],\n",
       "             72: [213, 316, 646, 733],\n",
       "             73: [44,\n",
       "              49,\n",
       "              53,\n",
       "              106,\n",
       "              116,\n",
       "              129,\n",
       "              141,\n",
       "              159,\n",
       "              301,\n",
       "              318,\n",
       "              348,\n",
       "              349,\n",
       "              380,\n",
       "              382,\n",
       "              391,\n",
       "              528,\n",
       "              541],\n",
       "             74: [6, 13, 28, 81, 184, 311, 313, 357, 381, 581],\n",
       "             75: [20, 21, 76, 90, 98, 131, 239, 540],\n",
       "             76: [456, 457, 462, 535, 545, 572, 604, 713],\n",
       "             80: [602, 624, 630, 676, 714],\n",
       "             81: [74, 294, 600],\n",
       "             82: [118, 146, 190, 221, 267, 281, 299, 353, 376, 426, 558],\n",
       "             83: [108, 259, 359, 583],\n",
       "             84: [18,\n",
       "              64,\n",
       "              83,\n",
       "              160,\n",
       "              192,\n",
       "              226,\n",
       "              228,\n",
       "              229,\n",
       "              233,\n",
       "              260,\n",
       "              325,\n",
       "              341,\n",
       "              354,\n",
       "              383,\n",
       "              386],\n",
       "             85: [11, 12, 15, 24, 77, 88, 109, 244, 287, 306, 358, 364, 562],\n",
       "             86: [4, 14, 16, 19, 25, 65, 69, 89, 214],\n",
       "             87: [34, 362, 431],\n",
       "             91: [603, 669],\n",
       "             92: [149, 270, 305, 352, 355, 440, 654],\n",
       "             93: [86, 91, 100, 117, 139, 144, 235, 310, 387, 412, 437, 441],\n",
       "             94: [154, 173, 197, 252, 272, 284, 334, 347, 371, 377, 641],\n",
       "             95: [27, 82, 174, 256, 273, 283, 309, 335, 338, 388, 564, 594],\n",
       "             96: [17,\n",
       "              22,\n",
       "              23,\n",
       "              57,\n",
       "              66,\n",
       "              67,\n",
       "              68,\n",
       "              72,\n",
       "              84,\n",
       "              147,\n",
       "              162,\n",
       "              232,\n",
       "              372,\n",
       "              436,\n",
       "              546,\n",
       "              751],\n",
       "             97: [1, 26, 59, 70, 170, 189, 204, 227, 254, 264, 433, 593],\n",
       "             98: [93, 234, 339, 439, 674, 697],\n",
       "             103: [580],\n",
       "             104: [62, 152, 297, 324, 409, 411, 435, 549],\n",
       "             105: [80, 92, 125, 196, 240, 249, 262, 420, 548, 645],\n",
       "             106: [9, 48, 136, 193, 195, 230, 427],\n",
       "             107: [52,\n",
       "              54,\n",
       "              71,\n",
       "              95,\n",
       "              112,\n",
       "              120,\n",
       "              126,\n",
       "              127,\n",
       "              135,\n",
       "              203,\n",
       "              246,\n",
       "              393,\n",
       "              557,\n",
       "              703],\n",
       "             108: [30, 42, 51, 75, 78, 107, 123, 344, 351, 365, 544],\n",
       "             109: [326, 574, 695],\n",
       "             115: [94, 156, 223],\n",
       "             116: [61, 194, 269, 278, 295, 308, 314, 317, 321, 706],\n",
       "             117: [10, 101, 199, 276, 587, 732],\n",
       "             118: [3,\n",
       "              41,\n",
       "              55,\n",
       "              87,\n",
       "              122,\n",
       "              140,\n",
       "              175,\n",
       "              215,\n",
       "              217,\n",
       "              251,\n",
       "              263,\n",
       "              275,\n",
       "              331,\n",
       "              340,\n",
       "              509],\n",
       "             119: [31, 32, 39, 50, 58, 63, 73, 96, 119, 319, 323, 327, 588],\n",
       "             120: [253, 465, 569, 748],\n",
       "             127: [85, 298],\n",
       "             128: [46, 102, 104, 130, 134, 202, 237, 452, 489, 490],\n",
       "             129: [33, 40, 115, 200, 236, 390, 399, 506, 508, 537],\n",
       "             130: [132, 322, 401, 445, 486, 533, 539, 702],\n",
       "             131: [463, 466, 534, 536, 698, 699, 717, 749],\n",
       "             139: [449, 451, 453, 458, 488, 511, 552],\n",
       "             140: [205, 282, 443, 450, 464, 500, 503, 513, 565],\n",
       "             141: [444, 446, 479, 501, 507, 578, 722],\n",
       "             142: [512, 553, 718, 719],\n",
       "             150: [480],\n",
       "             151: [461, 478, 483, 550, 561, 715],\n",
       "             152: [485, 491, 492, 518, 520, 522, 531, 577],\n",
       "             153: [521],\n",
       "             160: [502, 556, 576],\n",
       "             161: [448, 482, 487, 510],\n",
       "             162: [460, 499, 505, 542, 712, 716],\n",
       "             163: [467, 468, 470, 472, 497, 498],\n",
       "             164: [459, 471, 517, 721],\n",
       "             165: [692],\n",
       "             170: [454, 476, 477, 481, 586],\n",
       "             171: [455, 473, 474, 475, 494, 504, 526, 563, 570],\n",
       "             172: [516, 525, 530, 532, 538, 551],\n",
       "             173: [469, 519, 523],\n",
       "             174: [484, 495, 496],\n",
       "             181: [447],\n",
       "             183: [547],\n",
       "             184: [554]})"
      ]
     },
     "execution_count": 56,
     "metadata": {},
     "output_type": "execute_result"
    }
   ],
   "source": [
    "cluster_stations"
   ]
  },
  {
   "cell_type": "code",
   "execution_count": null,
   "metadata": {},
   "outputs": [],
   "source": []
  },
  {
   "cell_type": "code",
   "execution_count": null,
   "metadata": {},
   "outputs": [],
   "source": []
  },
  {
   "cell_type": "markdown",
   "metadata": {},
   "source": [
    "#### Calculation"
   ]
  },
  {
   "cell_type": "code",
   "execution_count": 58,
   "metadata": {},
   "outputs": [],
   "source": [
    "possible_cluster_routes = []\n",
    "\n",
    "keys = cluster_stations.keys()\n",
    "for k in keys:\n",
    "    tmp = []\n",
    "    for k_tmp in cluster_stations.keys():\n",
    "        if k != k_tmp:\n",
    "            tmp.append((k, k_tmp))\n",
    "    assert len(tmp) == 111\n",
    "    possible_cluster_routes.append(tmp)"
   ]
  },
  {
   "cell_type": "code",
   "execution_count": 59,
   "metadata": {},
   "outputs": [
    {
     "data": {
      "application/vnd.jupyter.widget-view+json": {
       "model_id": "dfdcea59bccd4ca3944c3b1d199ff6e2",
       "version_major": 2,
       "version_minor": 0
      },
      "text/html": [
       "<p>Failed to display Jupyter Widget of type <code>HBox</code>.</p>\n",
       "<p>\n",
       "  If you're reading this message in the Jupyter Notebook or JupyterLab Notebook, it may mean\n",
       "  that the widgets JavaScript is still loading. If this message persists, it\n",
       "  likely means that the widgets JavaScript library is either not installed or\n",
       "  not enabled. See the <a href=\"https://ipywidgets.readthedocs.io/en/stable/user_install.html\">Jupyter\n",
       "  Widgets Documentation</a> for setup instructions.\n",
       "</p>\n",
       "<p>\n",
       "  If you're reading this message in another frontend (for example, a static\n",
       "  rendering on GitHub or <a href=\"https://nbviewer.jupyter.org/\">NBViewer</a>),\n",
       "  it may mean that your frontend doesn't currently support widgets.\n",
       "</p>\n"
      ],
      "text/plain": [
       "HBox(children=(IntProgress(value=0, max=2), HTML(value='')))"
      ]
     },
     "metadata": {},
     "output_type": "display_data"
    },
    {
     "name": "stdout",
     "output_type": "stream",
     "text": [
      "\n"
     ]
    },
    {
     "name": "stderr",
     "output_type": "stream",
     "text": [
      "/usr/local/Cellar/python3/3.5.2_1/Frameworks/Python.framework/Versions/3.5/lib/python3.5/site-packages/numpy/core/fromnumeric.py:2957: RuntimeWarning: Mean of empty slice.\n",
      "  out=out, **kwargs)\n",
      "/usr/local/Cellar/python3/3.5.2_1/Frameworks/Python.framework/Versions/3.5/lib/python3.5/site-packages/numpy/core/_methods.py:80: RuntimeWarning: invalid value encountered in double_scalars\n",
      "  ret = ret.dtype.type(ret / rcount)\n"
     ]
    }
   ],
   "source": [
    "avg_D = {}\n",
    "for pcr in tqdm_notebook(possible_cluster_routes[:2]):\n",
    "    for ctup in pcr:\n",
    "        avg_D[ctup] = D(ctup[0], ctup[1], cluster_stations)\n",
    "        break\n",
    "    break\n",
    "        "
   ]
  },
  {
   "cell_type": "code",
   "execution_count": 60,
   "metadata": {},
   "outputs": [
    {
     "data": {
      "text/html": [
       "<div>\n",
       "<style scoped>\n",
       "    .dataframe tbody tr th:only-of-type {\n",
       "        vertical-align: middle;\n",
       "    }\n",
       "\n",
       "    .dataframe tbody tr th {\n",
       "        vertical-align: top;\n",
       "    }\n",
       "\n",
       "    .dataframe thead tr th {\n",
       "        text-align: left;\n",
       "    }\n",
       "</style>\n",
       "<table border=\"1\" class=\"dataframe\">\n",
       "  <thead>\n",
       "    <tr>\n",
       "      <th></th>\n",
       "      <th>4</th>\n",
       "    </tr>\n",
       "    <tr>\n",
       "      <th></th>\n",
       "      <th>5</th>\n",
       "    </tr>\n",
       "  </thead>\n",
       "  <tbody>\n",
       "    <tr>\n",
       "      <th>0</th>\n",
       "      <td>NaN</td>\n",
       "    </tr>\n",
       "  </tbody>\n",
       "</table>\n",
       "</div>"
      ],
      "text/plain": [
       "    4\n",
       "    5\n",
       "0 NaN"
      ]
     },
     "execution_count": 60,
     "metadata": {},
     "output_type": "execute_result"
    }
   ],
   "source": [
    "df_avg_D = pd.DataFrame(avg_D, index=[0])\n",
    "df_avg_D"
   ]
  },
  {
   "cell_type": "code",
   "execution_count": 39,
   "metadata": {},
   "outputs": [],
   "source": [
    "df_avg_D = df_avg_D.T\n",
    "df_avg_D.columns = ['average_distance']"
   ]
  },
  {
   "cell_type": "code",
   "execution_count": 61,
   "metadata": {},
   "outputs": [
    {
     "data": {
      "text/html": [
       "<div>\n",
       "<style scoped>\n",
       "    .dataframe tbody tr th:only-of-type {\n",
       "        vertical-align: middle;\n",
       "    }\n",
       "\n",
       "    .dataframe tbody tr th {\n",
       "        vertical-align: top;\n",
       "    }\n",
       "\n",
       "    .dataframe thead tr th {\n",
       "        text-align: left;\n",
       "    }\n",
       "</style>\n",
       "<table border=\"1\" class=\"dataframe\">\n",
       "  <thead>\n",
       "    <tr>\n",
       "      <th></th>\n",
       "      <th>4</th>\n",
       "    </tr>\n",
       "    <tr>\n",
       "      <th></th>\n",
       "      <th>5</th>\n",
       "    </tr>\n",
       "  </thead>\n",
       "  <tbody>\n",
       "    <tr>\n",
       "      <th>0</th>\n",
       "      <td>NaN</td>\n",
       "    </tr>\n",
       "  </tbody>\n",
       "</table>\n",
       "</div>"
      ],
      "text/plain": [
       "    4\n",
       "    5\n",
       "0 NaN"
      ]
     },
     "execution_count": 61,
     "metadata": {},
     "output_type": "execute_result"
    }
   ],
   "source": [
    "df_avg_D"
   ]
  },
  {
   "cell_type": "code",
   "execution_count": null,
   "metadata": {},
   "outputs": [],
   "source": []
  }
 ],
 "metadata": {
  "kernelspec": {
   "display_name": "Python 3",
   "language": "python",
   "name": "python3"
  },
  "language_info": {
   "codemirror_mode": {
    "name": "ipython",
    "version": 3
   },
   "file_extension": ".py",
   "mimetype": "text/x-python",
   "name": "python",
   "nbconvert_exporter": "python",
   "pygments_lexer": "ipython3",
   "version": "3.5.2"
  }
 },
 "nbformat": 4,
 "nbformat_minor": 2
}
